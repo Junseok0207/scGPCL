{
 "cells": [
  {
   "cell_type": "code",
   "execution_count": 1,
   "metadata": {},
   "outputs": [],
   "source": [
    "import torch\n",
    "import numpy as np\n",
    "import pandas as pd\n",
    "import torch.nn as nn\n",
    "import matplotlib.pyplot as plt\n",
    "import seaborn as sns\n",
    "from torch_geometric.loader import HGTLoader\n",
    "from sklearn.metrics.cluster import adjusted_rand_score, normalized_mutual_info_score\n",
    "from src.utils import cluster_acc\n",
    "from src.data import read_data, normalize, construct_graph\n",
    "from models.scGPCL import scGPCL\n",
    "from models.scGPCL_MSE import scGPCL_MSE"
   ]
  },
  {
   "cell_type": "markdown",
   "metadata": {},
   "source": [
    "We attach this notebook files to demonstrate reproducibility of our model.  \n",
    "**config model** function loads our model **scGPCL**  \n",
    "**evaluate_clustering_classification** function loads the trained weight and evaluate clustering performance.  \n",
    "**visualize** function visualizes the t-SNE embedding from **scGPCL**"
   ]
  },
  {
   "cell_type": "code",
   "execution_count": 25,
   "metadata": {},
   "outputs": [],
   "source": [
    "def config_model(adata, c_g_graph, n_clusters, device=0):\n",
    "    model = scGPCL(c_g_graph.metadata(), adata.n_vars, n_clusters, device=device).to(device)\n",
    "    gene_embedding = nn.Embedding(adata.n_vars, 64)\n",
    "    loader = HGTLoader(c_g_graph, num_samples=[2048,1024], shuffle=False, input_nodes=('cell', torch.ones(adata.n_obs).bool()), batch_size=1024)\n",
    "    \n",
    "    batch = next(iter(loader))\n",
    "    batch = batch.to(device)\n",
    "    gene_emb = gene_embedding.weight[batch['gene'].n_id].to(device)\n",
    "    batch['gene'].x = gene_emb\n",
    "    model.encoder(batch)\n",
    "    loader = HGTLoader(c_g_graph, num_samples=[2048,1024], shuffle=False, input_nodes=('cell', torch.ones(adata.n_obs).bool()), batch_size=1024)\n",
    "\n",
    "    return model, gene_embedding, loader"
   ]
  },
  {
   "cell_type": "code",
   "execution_count": 26,
   "metadata": {},
   "outputs": [],
   "source": [
    "def evaluate_clustering_performance(name, n_clusters, HVG, device=0):\n",
    "    \n",
    "    adata = read_data(name)\n",
    "    adata = normalize(adata, HVG=HVG)\n",
    "    c_g_graph = construct_graph(adata.raw.X, adata.X, adata.n_obs, adata.n_vars)\n",
    "        \n",
    "    weight_path = f'./weights/zinb_{name}.pt'\n",
    "    weights = torch.load(weight_path)\n",
    "\n",
    "    model, gene_embedding, loader = config_model(adata, c_g_graph, n_clusters, device=device)\n",
    "    model.load_state_dict(weights['model_state_dict'])\n",
    "    gene_embedding.load_state_dict(weights['gene_embedding_state_dict'])\n",
    "\n",
    "    latent = model.predict_full_cell_rep(loader, gene_embedding)\n",
    "    q = model.soft_assign(torch.tensor(latent).to(device))\n",
    "    y_pred = torch.argmax(q, dim=1).data.cpu().numpy()\n",
    "\n",
    "    nmi = normalized_mutual_info_score(adata.obs['Group'], y_pred)\n",
    "    ca, _ , _ = cluster_acc(adata.obs['Group'], y_pred)\n",
    "    ari = adjusted_rand_score(adata.obs['Group'], y_pred)    \n",
    "\n",
    "    print(\"** {} --> NMI : {:.4f} / CA : {:.4f} / ARI : {:.4f} ** \".format(name, nmi, ca, ari))"
   ]
  },
  {
   "cell_type": "code",
   "execution_count": 24,
   "metadata": {},
   "outputs": [],
   "source": [
    "def visualize(name, alpha=1.0):\n",
    "\n",
    "    adata = read_data(name)\n",
    "    path =  f'./t_SNE/{name}.csv'\n",
    "    df = pd.read_csv(path)    \n",
    "\n",
    "    bench_celltype = adata.obs['Group']\n",
    "    cell_types = bench_celltype.values\n",
    "\n",
    "    x = df['comp1']\n",
    "    y = df['comp2']\n",
    "    labels = np.unique(cell_types)\n",
    "\n",
    "    colors = sns.color_palette(\"hls\", len(labels))\n",
    "    colors = np.array(colors)\n",
    "\n",
    "    for label, color in zip(labels, colors):\n",
    "        boolean = (cell_types==label)\n",
    "        plt.scatter(x=x[boolean], y=y[boolean], color=color, label=label, alpha=alpha)\n",
    "\n",
    "    plt.xticks([])\n",
    "    plt.yticks([])\n",
    "\n",
    "    plt.show()"
   ]
  },
  {
   "cell_type": "markdown",
   "metadata": {},
   "source": [
    "# Cell Clustering"
   ]
  },
  {
   "cell_type": "markdown",
   "metadata": {},
   "source": [
    "Because of the unavoidable randomness, below performance is not exactly same with **Figure 6**.  \n",
    "However, you can check that it's enough to demonstrate the reproducibility of our model **scGPCL**.  "
   ]
  },
  {
   "cell_type": "code",
   "execution_count": 17,
   "metadata": {},
   "outputs": [
    {
     "name": "stdout",
     "output_type": "stream",
     "text": [
      "** Mouse_ES --> NMI : 0.9923 / CA : 0.9985 / ARI : 0.9969 ** \n"
     ]
    }
   ],
   "source": [
    "# Mouse Embryonic Stem cells\n",
    "evaluate_clustering_performance(name='Mouse_ES', n_clusters=4, HVG=0.2)"
   ]
  },
  {
   "cell_type": "code",
   "execution_count": 18,
   "metadata": {},
   "outputs": [
    {
     "name": "stdout",
     "output_type": "stream",
     "text": [
      "** MCA --> NMI : 0.7509 / CA : 0.6806 / ARI : 0.5870 ** \n"
     ]
    }
   ],
   "source": [
    "# Mouse bladder cells\n",
    "evaluate_clustering_performance(name='MCA', n_clusters=16, HVG=0.2, device=0)"
   ]
  },
  {
   "cell_type": "code",
   "execution_count": 26,
   "metadata": {},
   "outputs": [
    {
     "name": "stdout",
     "output_type": "stream",
     "text": [
      "** Zeisel --> NMI : 0.8349 / CA : 0.9295 / ARI : 0.8798 ** \n"
     ]
    }
   ],
   "source": [
    "# Zeisel\n",
    "evaluate_clustering_performance(name='Zeisel', n_clusters=9, HVG=0.2, device=0)"
   ]
  },
  {
   "cell_type": "code",
   "execution_count": 27,
   "metadata": {},
   "outputs": [
    {
     "name": "stdout",
     "output_type": "stream",
     "text": [
      "** Worm_neuron_cells --> NMI : 0.7563 / CA : 0.7040 / ARI : 0.5400 ** \n"
     ]
    }
   ],
   "source": [
    "# Worm neuron cells\n",
    "evaluate_clustering_performance(name='Worm_neuron_cells', n_clusters=10, HVG=0.2, device=0)"
   ]
  },
  {
   "cell_type": "code",
   "execution_count": 28,
   "metadata": {},
   "outputs": [
    {
     "name": "stdout",
     "output_type": "stream",
     "text": [
      "** 10X_PBMC --> NMI : 0.7758 / CA : 0.8228 / ARI : 0.7846 ** \n"
     ]
    }
   ],
   "source": [
    "# 10X PBMC\n",
    "evaluate_clustering_performance(name='10X_PBMC', n_clusters=8, HVG=0.2, device=0)"
   ]
  },
  {
   "cell_type": "code",
   "execution_count": 29,
   "metadata": {},
   "outputs": [
    {
     "name": "stdout",
     "output_type": "stream",
     "text": [
      "** Human_kidney_cells --> NMI : 0.8395 / CA : 0.8371 / ARI : 0.7596 ** \n"
     ]
    }
   ],
   "source": [
    "# Human kidney cells\n",
    "evaluate_clustering_performance(name='Human_kidney_cells', n_clusters=11, HVG=0.2, device=0)"
   ]
  },
  {
   "cell_type": "code",
   "execution_count": 30,
   "metadata": {},
   "outputs": [
    {
     "name": "stdout",
     "output_type": "stream",
     "text": [
      "** Shekhar --> NMI : 0.8612 / CA : 0.8490 / ARI : 0.8587 ** \n"
     ]
    }
   ],
   "source": [
    "# Shekhar mouse retina cells\n",
    "evaluate_clustering_performance(name='Shekhar', n_clusters=19, HVG=1, device=0)"
   ]
  },
  {
   "cell_type": "markdown",
   "metadata": {},
   "source": [
    "Additionally, we also provide the variants of **scGPCL** which replace the ZINB-based reconstruction loss with the MSE-based reconstruction loss.  "
   ]
  },
  {
   "cell_type": "code",
   "execution_count": 2,
   "metadata": {},
   "outputs": [],
   "source": [
    "def config_mse_model(adata, c_g_graph, n_clusters, device=0):\n",
    "    model = scGPCL_MSE(c_g_graph.metadata(), adata.n_vars, n_clusters, device=device).to(device)\n",
    "    gene_embedding = nn.Embedding(adata.n_vars, 64)\n",
    "    loader = HGTLoader(c_g_graph, num_samples=[2048,1024], shuffle=False, input_nodes=('cell', torch.ones(adata.n_obs).bool()), batch_size=1024)\n",
    "    \n",
    "    batch = next(iter(loader))\n",
    "    batch = batch.to(device)\n",
    "    gene_emb = gene_embedding.weight[batch['gene'].n_id].to(device)\n",
    "    batch['gene'].x = gene_emb\n",
    "    model.encoder(batch)\n",
    "    loader = HGTLoader(c_g_graph, num_samples=[2048,1024], shuffle=False, input_nodes=('cell', torch.ones(adata.n_obs).bool()), batch_size=1024)\n",
    "\n",
    "    return model, gene_embedding, loader"
   ]
  },
  {
   "cell_type": "code",
   "execution_count": 3,
   "metadata": {},
   "outputs": [],
   "source": [
    "def evaluate_clustering_performance(name, n_clusters, HVG, device=0):\n",
    "    \n",
    "    adata = read_data(name)\n",
    "    adata = normalize(adata, HVG=HVG)\n",
    "    c_g_graph = construct_graph(adata.raw.X, adata.X, adata.n_obs, adata.n_vars)\n",
    "        \n",
    "    weight_path = f'./weights/mse_{name}.pt'\n",
    "    weights = torch.load(weight_path)\n",
    "\n",
    "    model, gene_embedding, loader = config_mse_model(adata, c_g_graph, n_clusters, device=device)\n",
    "    model.load_state_dict(weights['model_state_dict'])\n",
    "    gene_embedding.load_state_dict(weights['gene_embedding_state_dict'])\n",
    "\n",
    "    latent = model.predict_full_cell_rep(loader, gene_embedding)\n",
    "    q = model.soft_assign(torch.tensor(latent).to(device))\n",
    "    y_pred = torch.argmax(q, dim=1).data.cpu().numpy()\n",
    "\n",
    "    nmi = normalized_mutual_info_score(adata.obs['Group'], y_pred)\n",
    "    ca, _ , _ = cluster_acc(adata.obs['Group'], y_pred)\n",
    "    ari = adjusted_rand_score(adata.obs['Group'], y_pred)    \n",
    "\n",
    "    print(\"** {} --> NMI : {:.4f} / CA : {:.4f} / ARI : {:.4f} ** \".format(name, nmi, ca, ari))"
   ]
  },
  {
   "cell_type": "code",
   "execution_count": 23,
   "metadata": {},
   "outputs": [
    {
     "name": "stdout",
     "output_type": "stream",
     "text": [
      "** Mouse_ES --> NMI : 0.9396 / CA : 0.9816 / ARI : 0.9546 ** \n"
     ]
    }
   ],
   "source": [
    "# Mouse Embryonic Stem cells\n",
    "evaluate_clustering_performance(name='Mouse_ES', n_clusters=4, HVG=0.2)"
   ]
  },
  {
   "cell_type": "code",
   "execution_count": 24,
   "metadata": {},
   "outputs": [
    {
     "name": "stdout",
     "output_type": "stream",
     "text": [
      "** MCA --> NMI : 0.7612 / CA : 0.7141 / ARI : 0.6083 ** \n"
     ]
    }
   ],
   "source": [
    "# Mouse bladder cells\n",
    "evaluate_clustering_performance(name='MCA', n_clusters=16, HVG=0.2, device=0)"
   ]
  },
  {
   "cell_type": "code",
   "execution_count": 26,
   "metadata": {},
   "outputs": [
    {
     "name": "stdout",
     "output_type": "stream",
     "text": [
      "** Zeisel --> NMI : 0.8185 / CA : 0.9241 / ARI : 0.8637 ** \n"
     ]
    }
   ],
   "source": [
    "# Zeisel\n",
    "evaluate_clustering_performance(name='Zeisel', n_clusters=9, HVG=0.2, device=0)"
   ]
  },
  {
   "cell_type": "code",
   "execution_count": 27,
   "metadata": {},
   "outputs": [
    {
     "name": "stdout",
     "output_type": "stream",
     "text": [
      "** Worm_neuron_cells --> NMI : 0.7601 / CA : 0.6916 / ARI : 0.5571 ** \n"
     ]
    }
   ],
   "source": [
    "# Worm neuron cells\n",
    "evaluate_clustering_performance(name='Worm_neuron_cells', n_clusters=10, HVG=0.2, device=0)"
   ]
  },
  {
   "cell_type": "code",
   "execution_count": 28,
   "metadata": {},
   "outputs": [
    {
     "name": "stdout",
     "output_type": "stream",
     "text": [
      "** 10X_PBMC --> NMI : 0.7751 / CA : 0.8251 / ARI : 0.7826 ** \n"
     ]
    }
   ],
   "source": [
    "# 10X PBMC\n",
    "evaluate_clustering_performance(name='10X_PBMC', n_clusters=8, HVG=0.2, device=0)"
   ]
  },
  {
   "cell_type": "code",
   "execution_count": 29,
   "metadata": {},
   "outputs": [
    {
     "name": "stdout",
     "output_type": "stream",
     "text": [
      "** Human_kidney_cells --> NMI : 0.7827 / CA : 0.7854 / ARI : 0.6774 ** \n"
     ]
    }
   ],
   "source": [
    "# Human kidney cells\n",
    "evaluate_clustering_performance(name='Human_kidney_cells', n_clusters=11, HVG=0.2, device=0)"
   ]
  },
  {
   "cell_type": "code",
   "execution_count": 6,
   "metadata": {},
   "outputs": [
    {
     "name": "stdout",
     "output_type": "stream",
     "text": [
      "** Shekhar --> NMI : 0.8238 / CA : 0.7766 / ARI : 0.7039 ** \n"
     ]
    }
   ],
   "source": [
    "# Shekhar mouse retina cells\n",
    "evaluate_clustering_performance(name='Shekhar', n_clusters=19, HVG=1, device=0)"
   ]
  },
  {
   "cell_type": "code",
   "execution_count": 8,
   "metadata": {},
   "outputs": [
    {
     "name": "stdout",
     "output_type": "stream",
     "text": [
      "** Shekhar --> NMI : 0.8950 / CA : 0.9061 / ARI : 0.9184 ** \n"
     ]
    }
   ],
   "source": [
    "# Shekhar mouse retina cells\n",
    "evaluate_clustering_performance(name='Shekhar', n_clusters=19, HVG=1, device=3)"
   ]
  },
  {
   "cell_type": "markdown",
   "metadata": {},
   "source": [
    "# Visualization"
   ]
  },
  {
   "cell_type": "code",
   "execution_count": 31,
   "metadata": {},
   "outputs": [
    {
     "data": {
      "image/png": "[encoded data removed]",
      "text/plain": [
       "<Figure size 432x288 with 1 Axes>"
      ]
     },
     "metadata": {},
     "output_type": "display_data"
    }
   ],
   "source": [
    "visualize(name='Mouse_ES')"
   ]
  },
  {
   "cell_type": "code",
   "execution_count": 32,
   "metadata": {},
   "outputs": [
    {
     "data": {
      "image/png": "[encoded data removed]",
      "text/plain": [
       "<Figure size 432x288 with 1 Axes>"
      ]
     },
     "metadata": {},
     "output_type": "display_data"
    }
   ],
   "source": [
    "visualize(name='MCA')"
   ]
  },
  {
   "cell_type": "code",
   "execution_count": 33,
   "metadata": {},
   "outputs": [
    {
     "data": {
      "image/png": "[encoded data removed]",
      "text/plain": [
       "<Figure size 432x288 with 1 Axes>"
      ]
     },
     "metadata": {},
     "output_type": "display_data"
    }
   ],
   "source": [
    "visualize(name='Zeisel')"
   ]
  },
  {
   "cell_type": "code",
   "execution_count": 34,
   "metadata": {},
   "outputs": [
    {
     "data": {
      "image/png": "[encoded data removed]",
      "text/plain": [
       "<Figure size 432x288 with 1 Axes>"
      ]
     },
     "metadata": {},
     "output_type": "display_data"
    }
   ],
   "source": [
    "visualize(name='Worm_neuron_cells')"
   ]
  },
  {
   "cell_type": "code",
   "execution_count": 35,
   "metadata": {},
   "outputs": [
    {
     "data": {
      "image/png": "[encoded data removed]",
      "text/plain": [
       "<Figure size 432x288 with 1 Axes>"
      ]
     },
     "metadata": {},
     "output_type": "display_data"
    }
   ],
   "source": [
    "visualize(name='10X_PBMC')"
   ]
  },
  {
   "cell_type": "code",
   "execution_count": 36,
   "metadata": {},
   "outputs": [
    {
     "data": {
      "image/png": "[encoded data removed]",
      "text/plain": [
       "<Figure size 432x288 with 1 Axes>"
      ]
     },
     "metadata": {},
     "output_type": "display_data"
    }
   ],
   "source": [
    "visualize(name='Human_kidney_cells')"
   ]
  },
  {
   "cell_type": "code",
   "execution_count": 37,
   "metadata": {},
   "outputs": [
    {
     "data": {
      "image/png": "[encoded data removed]",
      "text/plain": [
       "<Figure size 432x288 with 1 Axes>"
      ]
     },
     "metadata": {},
     "output_type": "display_data"
    }
   ],
   "source": [
    "visualize(name='Shekhar')"
   ]
  },
  {
   "cell_type": "code",
   "execution_count": null,
   "metadata": {},
   "outputs": [],
   "source": []
  }
 ],
 "metadata": {
  "kernelspec": {
   "display_name": "Python 3.9.7 ('pyg2')",
   "language": "python",
   "name": "python3"
  },
  "language_info": {
   "codemirror_mode": {
    "name": "ipython",
    "version": 3
   },
   "file_extension": ".py",
   "mimetype": "text/x-python",
   "name": "python",
   "nbconvert_exporter": "python",
   "pygments_lexer": "ipython3",
   "version": "3.9.7"
  },
  "orig_nbformat": 4,
  "vscode": {
   "interpreter": {
    "hash": "264e72115c788ad98d98c990637ec29a4f0c2a779475aba31abd177e563b796d"
   }
  }
 },
 "nbformat": 4,
 "nbformat_minor": 2
}
