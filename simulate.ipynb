{
 "cells": [
  {
   "cell_type": "code",
   "execution_count": 5,
   "metadata": {},
   "outputs": [
    {
     "name": "stdout",
     "output_type": "stream",
     "text": [
      "The rpy2.ipython extension is already loaded. To reload it, use:\n",
      "  %reload_ext rpy2.ipython\n"
     ]
    }
   ],
   "source": [
    "# make sure that rpy2 is installed: https://rpy2.bitbucket.io/\n",
    "%load_ext rpy2.ipython\n",
    "\n",
    "import torch\n",
    "import numpy as np\n",
    "import pandas as pd\n",
    "import scanpy as sc\n",
    "import warnings\n",
    "from rpy2.rinterface import RRuntimeWarning\n",
    "\n",
    "# ignore R warning messages\n",
    "warnings.filterwarnings(\"ignore\", category=RRuntimeWarning)"
   ]
  },
  {
   "cell_type": "code",
   "execution_count": 6,
   "metadata": {},
   "outputs": [],
   "source": [
    "%%R\n",
    "library(splatter)"
   ]
  },
  {
   "cell_type": "code",
   "execution_count": 7,
   "metadata": {},
   "outputs": [],
   "source": [
    "%%R\n",
    "\n",
    "Simulation <- function(nGroups, nGenes, batchCells, mid, sigma){\n",
    "  method <- 'groups'\n",
    "  \n",
    "  group.prob <- rep(1, nGroups) / nGroups\n",
    "  \n",
    "  sim <- splatSimulate(group.prob=group.prob, nGenes=nGenes, batchCells=batchCells,\n",
    "                       dropout.type=\"experiment\", method=method, seed=0,\n",
    "                       dropout.shape=-1, dropout.mid=mid, de.facScale=sigma)\n",
    "  \n",
    "  counts     <- as.data.frame(as.matrix(t(counts(sim))))\n",
    "  truecounts <- as.data.frame(t(assays(sim)$TrueCounts))\n",
    "    \n",
    "  cellinfo   <- as.data.frame(colData(sim))\n",
    "  geneinfo   <- as.data.frame(rowData(sim))\n",
    "  \n",
    "  return(list('truecounts'=truecounts, 'counts'=counts, 'cellinfo'=cellinfo, 'geneinfo'=geneinfo))  \n",
    "}"
   ]
  },
  {
   "cell_type": "code",
   "execution_count": 8,
   "metadata": {},
   "outputs": [],
   "source": [
    "def save_simulated_data(name, truecounts, counts, cellinfo, geneinfo):\n",
    "    true_zero_counts = (truecounts==0).sum().sum() \n",
    "    raw_zero_counts = (counts==0).sum().sum()\n",
    "    true_non_zero_counts = (truecounts!=0).sum().sum()\n",
    "\n",
    "    numerator = raw_zero_counts - true_zero_counts\n",
    "    denominator = true_non_zero_counts\n",
    "    dropout_rate = numerator / denominator\n",
    "    dropout_rate = round(dropout_rate * 100,2)\n",
    "\n",
    "    adata = sc.AnnData(counts.values, obs=cellinfo, var=geneinfo)\n",
    "    adata.obs_names = cellinfo.Cell\n",
    "    adata.var_names = geneinfo.Gene\n",
    "    adata = adata[:, adata.var_names]\n",
    "    adata.uns['dropout_rate'] = dropout_rate\n",
    "\n",
    "    mapping_dict ={'Group1' : 1,\n",
    "            'Group2' : 2,\n",
    "            'Group3' : 3,\n",
    "            'Group4' : 4,\n",
    "            'Group5' : 5,\n",
    "            'Group6' : 6,\n",
    "            'Group7' : 7,\n",
    "            'Group8' : 8,\n",
    "            'Group9' : 9,\n",
    "            'Group10' :10,\n",
    "    }\n",
    "    adata.obs['Group'].replace(mapping_dict, inplace=True)\n",
    "\n",
    "    adata.obs.index.name = 'cell_id'\n",
    "    adata.var.index.name = 'gene_id'\n",
    "\n",
    "    sc.pp.filter_genes(adata, min_counts=1)\n",
    "    sc.pp.filter_cells(adata, min_counts=1)\n",
    "\n",
    "    path = f'./data/{name}'\n",
    "    adata.write(path)"
   ]
  },
  {
   "cell_type": "markdown",
   "metadata": {},
   "source": [
    "# 1) High Dropout rate"
   ]
  },
  {
   "cell_type": "markdown",
   "metadata": {},
   "source": [
    "## 1-1) SimT3"
   ]
  },
  {
   "cell_type": "markdown",
   "metadata": {},
   "source": [
    "### 1-1-1) mid = 0"
   ]
  },
  {
   "cell_type": "code",
   "execution_count": 5,
   "metadata": {},
   "outputs": [],
   "source": [
    "name='SimT3_1'\n",
    "mid=0.0\n",
    "sigma=0.3\n",
    "ngroup=3"
   ]
  },
  {
   "cell_type": "code",
   "execution_count": 9,
   "metadata": {},
   "outputs": [
    {
     "name": "stderr",
     "output_type": "stream",
     "text": [
      "R[write to console]: Getting parameters...\n",
      "\n",
      "R[write to console]: Creating simulation object...\n",
      "\n",
      "R[write to console]: Simulating library sizes...\n",
      "\n",
      "R[write to console]: Simulating gene means...\n",
      "\n",
      "R[write to console]: Simulating group DE...\n",
      "\n",
      "R[write to console]: Simulating cell means...\n",
      "\n",
      "R[write to console]: Simulating BCV...\n",
      "\n",
      "R[write to console]: Simulating counts...\n",
      "\n",
      "R[write to console]: Simulating dropout (if needed)...\n",
      "\n",
      "R[write to console]: Sparsifying assays...\n",
      "\n",
      "R[write to console]: Automatically converting to sparse matrices, threshold = 0.95\n",
      "\n",
      "R[write to console]: Skipping 'BatchCellMeans': estimated sparse size 1.5 * dense matrix\n",
      "\n",
      "R[write to console]: Skipping 'BaseCellMeans': estimated sparse size 1.5 * dense matrix\n",
      "\n",
      "R[write to console]: Skipping 'BCV': estimated sparse size 1.5 * dense matrix\n",
      "\n",
      "R[write to console]: Skipping 'CellMeans': estimated sparse size 1.49 * dense matrix\n",
      "\n",
      "R[write to console]: Skipping 'TrueCounts': estimated sparse size 2.03 * dense matrix\n",
      "\n",
      "R[write to console]: Skipping 'DropProb': estimated sparse size 1.5 * dense matrix\n",
      "\n",
      "R[write to console]: Converting 'Dropout' to sparse matrix: estimated sparse size 0.83 * dense matrix\n",
      "\n",
      "R[write to console]: Skipping 'counts': estimated sparse size 1.58 * dense matrix\n",
      "\n",
      "R[write to console]: Done!\n",
      "\n"
     ]
    }
   ],
   "source": [
    "%%R -i ngroup -i mid -i sigma -o counts -o truecounts -o geneinfo -o cellinfo\n",
    "\n",
    "sce <- Simulation(nGroups=ngroup, nGenes=5000, batchCells=3000, mid=mid, sigma=sigma)\n",
    "truecounts <- sce$truecounts\n",
    "counts <- sce$counts\n",
    "cellinfo <- sce$cellinfo\n",
    "geneinfo <- sce$geneinfo"
   ]
  },
  {
   "cell_type": "code",
   "execution_count": 10,
   "metadata": {},
   "outputs": [
    {
     "name": "stderr",
     "output_type": "stream",
     "text": [
      "Trying to set attribute `._uns` of view, copying.\n",
      "/home/junseok/anaconda3/envs/pyg2/lib/python3.9/site-packages/anndata/_core/anndata.py:1228: FutureWarning: The `inplace` parameter in pandas.Categorical.reorder_categories is deprecated and will be removed in a future version. Reordering categories will always return a new Categorical object.\n",
      "  c.reorder_categories(natsorted(c.categories), inplace=True)\n",
      "... storing 'Batch' as categorical\n"
     ]
    }
   ],
   "source": [
    "save_simulated_data(name, truecounts, counts, cellinfo, geneinfo)"
   ]
  },
  {
   "cell_type": "markdown",
   "metadata": {},
   "source": [
    "### 1-1-2) mid = 0.5"
   ]
  },
  {
   "cell_type": "code",
   "execution_count": 12,
   "metadata": {},
   "outputs": [],
   "source": [
    "name='SimT3_2'\n",
    "mid=0.5\n",
    "sigma=0.3\n",
    "ngroup=3"
   ]
  },
  {
   "cell_type": "code",
   "execution_count": 13,
   "metadata": {},
   "outputs": [
    {
     "name": "stderr",
     "output_type": "stream",
     "text": [
      "R[write to console]: Getting parameters...\n",
      "\n",
      "R[write to console]: Creating simulation object...\n",
      "\n",
      "R[write to console]: Simulating library sizes...\n",
      "\n",
      "R[write to console]: Simulating gene means...\n",
      "\n",
      "R[write to console]: Simulating group DE...\n",
      "\n",
      "R[write to console]: Simulating cell means...\n",
      "\n",
      "R[write to console]: Simulating BCV...\n",
      "\n",
      "R[write to console]: Simulating counts...\n",
      "\n",
      "R[write to console]: Simulating dropout (if needed)...\n",
      "\n",
      "R[write to console]: Sparsifying assays...\n",
      "\n",
      "R[write to console]: Automatically converting to sparse matrices, threshold = 0.95\n",
      "\n",
      "R[write to console]: Skipping 'BatchCellMeans': estimated sparse size 1.5 * dense matrix\n",
      "\n",
      "R[write to console]: Skipping 'BaseCellMeans': estimated sparse size 1.5 * dense matrix\n",
      "\n",
      "R[write to console]: Skipping 'BCV': estimated sparse size 1.5 * dense matrix\n",
      "\n",
      "R[write to console]: Skipping 'CellMeans': estimated sparse size 1.49 * dense matrix\n",
      "\n",
      "R[write to console]: Skipping 'TrueCounts': estimated sparse size 2.03 * dense matrix\n",
      "\n",
      "R[write to console]: Skipping 'DropProb': estimated sparse size 1.5 * dense matrix\n",
      "\n",
      "R[write to console]: Skipping 'Dropout': estimated sparse size 0.97 * dense matrix\n",
      "\n",
      "R[write to console]: Skipping 'counts': estimated sparse size 1.43 * dense matrix\n",
      "\n",
      "R[write to console]: Done!\n",
      "\n"
     ]
    }
   ],
   "source": [
    "%%R -i ngroup -i mid -i sigma -o counts -o truecounts -o geneinfo -o cellinfo\n",
    "\n",
    "sce <- Simulation(nGroups=ngroup, nGenes=5000, batchCells=3000, mid=mid, sigma=sigma)\n",
    "truecounts <- sce$truecounts\n",
    "counts <- sce$counts\n",
    "cellinfo <- sce$cellinfo\n",
    "geneinfo <- sce$geneinfo"
   ]
  },
  {
   "cell_type": "code",
   "execution_count": 14,
   "metadata": {},
   "outputs": [
    {
     "name": "stderr",
     "output_type": "stream",
     "text": [
      "Trying to set attribute `._uns` of view, copying.\n",
      "/home/junseok/anaconda3/envs/pyg2/lib/python3.9/site-packages/anndata/_core/anndata.py:1228: FutureWarning: The `inplace` parameter in pandas.Categorical.reorder_categories is deprecated and will be removed in a future version. Reordering categories will always return a new Categorical object.\n",
      "  c.reorder_categories(natsorted(c.categories), inplace=True)\n",
      "... storing 'Batch' as categorical\n"
     ]
    }
   ],
   "source": [
    "save_simulated_data(name, truecounts, counts, cellinfo, geneinfo)"
   ]
  },
  {
   "cell_type": "markdown",
   "metadata": {},
   "source": [
    "### 1-1-3) mid = 1.0"
   ]
  },
  {
   "cell_type": "code",
   "execution_count": 15,
   "metadata": {},
   "outputs": [],
   "source": [
    "name='SimT3_3'\n",
    "mid=1.0\n",
    "sigma=0.3\n",
    "ngroup=3"
   ]
  },
  {
   "cell_type": "code",
   "execution_count": 16,
   "metadata": {},
   "outputs": [
    {
     "name": "stderr",
     "output_type": "stream",
     "text": [
      "R[write to console]: Getting parameters...\n",
      "\n",
      "R[write to console]: Creating simulation object...\n",
      "\n",
      "R[write to console]: Simulating library sizes...\n",
      "\n",
      "R[write to console]: Simulating gene means...\n",
      "\n",
      "R[write to console]: Simulating group DE...\n",
      "\n",
      "R[write to console]: Simulating cell means...\n",
      "\n",
      "R[write to console]: Simulating BCV...\n",
      "\n",
      "R[write to console]: Simulating counts...\n",
      "\n",
      "R[write to console]: Simulating dropout (if needed)...\n",
      "\n",
      "R[write to console]: Sparsifying assays...\n",
      "\n",
      "R[write to console]: Automatically converting to sparse matrices, threshold = 0.95\n",
      "\n",
      "R[write to console]: Skipping 'BatchCellMeans': estimated sparse size 1.5 * dense matrix\n",
      "\n",
      "R[write to console]: Skipping 'BaseCellMeans': estimated sparse size 1.5 * dense matrix\n",
      "\n",
      "R[write to console]: Skipping 'BCV': estimated sparse size 1.5 * dense matrix\n",
      "\n",
      "R[write to console]: Skipping 'CellMeans': estimated sparse size 1.49 * dense matrix\n",
      "\n",
      "R[write to console]: Skipping 'TrueCounts': estimated sparse size 2.03 * dense matrix\n",
      "\n",
      "R[write to console]: Skipping 'DropProb': estimated sparse size 1.5 * dense matrix\n",
      "\n",
      "R[write to console]: Skipping 'Dropout': estimated sparse size 1.1 * dense matrix\n",
      "\n",
      "R[write to console]: Skipping 'counts': estimated sparse size 1.26 * dense matrix\n",
      "\n",
      "R[write to console]: Done!\n",
      "\n"
     ]
    }
   ],
   "source": [
    "%%R -i ngroup -i mid -i sigma -o counts -o truecounts -o geneinfo -o cellinfo\n",
    "\n",
    "sce <- Simulation(nGroups=ngroup, nGenes=5000, batchCells=3000, mid=mid, sigma=sigma)\n",
    "truecounts <- sce$truecounts\n",
    "counts <- sce$counts\n",
    "cellinfo <- sce$cellinfo\n",
    "geneinfo <- sce$geneinfo"
   ]
  },
  {
   "cell_type": "code",
   "execution_count": 17,
   "metadata": {},
   "outputs": [
    {
     "name": "stderr",
     "output_type": "stream",
     "text": [
      "Trying to set attribute `._uns` of view, copying.\n",
      "/home/junseok/anaconda3/envs/pyg2/lib/python3.9/site-packages/anndata/_core/anndata.py:1228: FutureWarning: The `inplace` parameter in pandas.Categorical.reorder_categories is deprecated and will be removed in a future version. Reordering categories will always return a new Categorical object.\n",
      "  c.reorder_categories(natsorted(c.categories), inplace=True)\n",
      "... storing 'Batch' as categorical\n"
     ]
    }
   ],
   "source": [
    "save_simulated_data(name, truecounts, counts, cellinfo, geneinfo)"
   ]
  },
  {
   "cell_type": "markdown",
   "metadata": {},
   "source": [
    "### 1-1-4) mid = 1.5"
   ]
  },
  {
   "cell_type": "code",
   "execution_count": 18,
   "metadata": {},
   "outputs": [],
   "source": [
    "name='SimT3_4'\n",
    "mid=1.5\n",
    "sigma=0.3\n",
    "ngroup=3"
   ]
  },
  {
   "cell_type": "code",
   "execution_count": 19,
   "metadata": {},
   "outputs": [
    {
     "name": "stderr",
     "output_type": "stream",
     "text": [
      "R[write to console]: Getting parameters...\n",
      "\n",
      "R[write to console]: Creating simulation object...\n",
      "\n",
      "R[write to console]: Simulating library sizes...\n",
      "\n",
      "R[write to console]: Simulating gene means...\n",
      "\n",
      "R[write to console]: Simulating group DE...\n",
      "\n",
      "R[write to console]: Simulating cell means...\n",
      "\n",
      "R[write to console]: Simulating BCV...\n",
      "\n",
      "R[write to console]: Simulating counts...\n",
      "\n",
      "R[write to console]: Simulating dropout (if needed)...\n",
      "\n",
      "R[write to console]: Sparsifying assays...\n",
      "\n",
      "R[write to console]: Automatically converting to sparse matrices, threshold = 0.95\n",
      "\n",
      "R[write to console]: Skipping 'BatchCellMeans': estimated sparse size 1.5 * dense matrix\n",
      "\n",
      "R[write to console]: Skipping 'BaseCellMeans': estimated sparse size 1.5 * dense matrix\n",
      "\n",
      "R[write to console]: Skipping 'BCV': estimated sparse size 1.5 * dense matrix\n",
      "\n",
      "R[write to console]: Skipping 'CellMeans': estimated sparse size 1.49 * dense matrix\n",
      "\n",
      "R[write to console]: Skipping 'TrueCounts': estimated sparse size 2.03 * dense matrix\n",
      "\n",
      "R[write to console]: Skipping 'DropProb': estimated sparse size 1.5 * dense matrix\n",
      "\n",
      "R[write to console]: Skipping 'Dropout': estimated sparse size 1.25 * dense matrix\n",
      "\n",
      "R[write to console]: Skipping 'counts': estimated sparse size 1.07 * dense matrix\n",
      "\n",
      "R[write to console]: Done!\n",
      "\n"
     ]
    }
   ],
   "source": [
    "%%R -i ngroup -i mid -i sigma -o counts -o truecounts -o geneinfo -o cellinfo\n",
    "\n",
    "sce <- Simulation(nGroups=ngroup, nGenes=5000, batchCells=3000, mid=mid, sigma=sigma)\n",
    "truecounts <- sce$truecounts\n",
    "counts <- sce$counts\n",
    "cellinfo <- sce$cellinfo\n",
    "geneinfo <- sce$geneinfo"
   ]
  },
  {
   "cell_type": "code",
   "execution_count": 20,
   "metadata": {},
   "outputs": [
    {
     "name": "stderr",
     "output_type": "stream",
     "text": [
      "Trying to set attribute `._uns` of view, copying.\n",
      "/home/junseok/anaconda3/envs/pyg2/lib/python3.9/site-packages/anndata/_core/anndata.py:1228: FutureWarning: The `inplace` parameter in pandas.Categorical.reorder_categories is deprecated and will be removed in a future version. Reordering categories will always return a new Categorical object.\n",
      "  c.reorder_categories(natsorted(c.categories), inplace=True)\n",
      "... storing 'Batch' as categorical\n"
     ]
    }
   ],
   "source": [
    "save_simulated_data(name, truecounts, counts, cellinfo, geneinfo)"
   ]
  },
  {
   "cell_type": "markdown",
   "metadata": {},
   "source": [
    "### 1-1-5) mid = 2.0"
   ]
  },
  {
   "cell_type": "code",
   "execution_count": 21,
   "metadata": {},
   "outputs": [],
   "source": [
    "name='SimT3_5'\n",
    "mid=2.0\n",
    "sigma=0.3\n",
    "ngroup=3"
   ]
  },
  {
   "cell_type": "code",
   "execution_count": 22,
   "metadata": {},
   "outputs": [
    {
     "name": "stderr",
     "output_type": "stream",
     "text": [
      "R[write to console]: Getting parameters...\n",
      "\n",
      "R[write to console]: Creating simulation object...\n",
      "\n",
      "R[write to console]: Simulating library sizes...\n",
      "\n",
      "R[write to console]: Simulating gene means...\n",
      "\n",
      "R[write to console]: Simulating group DE...\n",
      "\n",
      "R[write to console]: Simulating cell means...\n",
      "\n",
      "R[write to console]: Simulating BCV...\n",
      "\n",
      "R[write to console]: Simulating counts...\n",
      "\n",
      "R[write to console]: Simulating dropout (if needed)...\n",
      "\n",
      "R[write to console]: Sparsifying assays...\n",
      "\n",
      "R[write to console]: Automatically converting to sparse matrices, threshold = 0.95\n",
      "\n",
      "R[write to console]: Skipping 'BatchCellMeans': estimated sparse size 1.5 * dense matrix\n",
      "\n",
      "R[write to console]: Skipping 'BaseCellMeans': estimated sparse size 1.5 * dense matrix\n",
      "\n",
      "R[write to console]: Skipping 'BCV': estimated sparse size 1.5 * dense matrix\n",
      "\n",
      "R[write to console]: Skipping 'CellMeans': estimated sparse size 1.49 * dense matrix\n",
      "\n",
      "R[write to console]: Skipping 'TrueCounts': estimated sparse size 2.03 * dense matrix\n",
      "\n",
      "R[write to console]: Skipping 'DropProb': estimated sparse size 1.5 * dense matrix\n",
      "\n",
      "R[write to console]: Skipping 'Dropout': estimated sparse size 1.39 * dense matrix\n",
      "\n",
      "R[write to console]: Converting 'counts' to sparse matrix: estimated sparse size 0.88 * dense matrix\n",
      "\n",
      "R[write to console]: Done!\n",
      "\n"
     ]
    }
   ],
   "source": [
    "%%R -i ngroup -i mid -i sigma -o counts -o truecounts -o geneinfo -o cellinfo\n",
    "\n",
    "sce <- Simulation(nGroups=ngroup, nGenes=5000, batchCells=3000, mid=mid, sigma=sigma)\n",
    "truecounts <- sce$truecounts\n",
    "counts <- sce$counts\n",
    "cellinfo <- sce$cellinfo\n",
    "geneinfo <- sce$geneinfo"
   ]
  },
  {
   "cell_type": "code",
   "execution_count": 23,
   "metadata": {},
   "outputs": [
    {
     "name": "stderr",
     "output_type": "stream",
     "text": [
      "Trying to set attribute `._uns` of view, copying.\n",
      "/home/junseok/anaconda3/envs/pyg2/lib/python3.9/site-packages/anndata/_core/anndata.py:1228: FutureWarning: The `inplace` parameter in pandas.Categorical.reorder_categories is deprecated and will be removed in a future version. Reordering categories will always return a new Categorical object.\n",
      "  c.reorder_categories(natsorted(c.categories), inplace=True)\n",
      "... storing 'Batch' as categorical\n"
     ]
    }
   ],
   "source": [
    "save_simulated_data(name, truecounts, counts, cellinfo, geneinfo)"
   ]
  },
  {
   "cell_type": "markdown",
   "metadata": {},
   "source": [
    "## 1-2) SimT6"
   ]
  },
  {
   "cell_type": "markdown",
   "metadata": {},
   "source": [
    "### 1-2-1) mid = 0"
   ]
  },
  {
   "cell_type": "code",
   "execution_count": 25,
   "metadata": {},
   "outputs": [],
   "source": [
    "name='SimT6_1'\n",
    "mid=0.0\n",
    "sigma=0.3\n",
    "ngroup=6"
   ]
  },
  {
   "cell_type": "code",
   "execution_count": 26,
   "metadata": {},
   "outputs": [
    {
     "name": "stderr",
     "output_type": "stream",
     "text": [
      "R[write to console]: Getting parameters...\n",
      "\n",
      "R[write to console]: Creating simulation object...\n",
      "\n",
      "R[write to console]: Simulating library sizes...\n",
      "\n",
      "R[write to console]: Simulating gene means...\n",
      "\n",
      "R[write to console]: Simulating group DE...\n",
      "\n",
      "R[write to console]: Simulating cell means...\n",
      "\n",
      "R[write to console]: Simulating BCV...\n",
      "\n",
      "R[write to console]: Simulating counts...\n",
      "\n",
      "R[write to console]: Simulating dropout (if needed)...\n",
      "\n",
      "R[write to console]: Sparsifying assays...\n",
      "\n",
      "R[write to console]: Automatically converting to sparse matrices, threshold = 0.95\n",
      "\n",
      "R[write to console]: Skipping 'BatchCellMeans': estimated sparse size 1.5 * dense matrix\n",
      "\n",
      "R[write to console]: Skipping 'BaseCellMeans': estimated sparse size 1.5 * dense matrix\n",
      "\n",
      "R[write to console]: Skipping 'BCV': estimated sparse size 1.5 * dense matrix\n",
      "\n",
      "R[write to console]: Skipping 'CellMeans': estimated sparse size 1.49 * dense matrix\n",
      "\n",
      "R[write to console]: Skipping 'TrueCounts': estimated sparse size 2.03 * dense matrix\n",
      "\n",
      "R[write to console]: Skipping 'DropProb': estimated sparse size 1.5 * dense matrix\n",
      "\n",
      "R[write to console]: Converting 'Dropout' to sparse matrix: estimated sparse size 0.84 * dense matrix\n",
      "\n",
      "R[write to console]: Skipping 'counts': estimated sparse size 1.58 * dense matrix\n",
      "\n",
      "R[write to console]: Done!\n",
      "\n"
     ]
    }
   ],
   "source": [
    "%%R -i ngroup -i mid -i sigma -o counts -o truecounts -o geneinfo -o cellinfo\n",
    "\n",
    "sce <- Simulation(nGroups=ngroup, nGenes=5000, batchCells=3000, mid=mid, sigma=sigma)\n",
    "truecounts <- sce$truecounts\n",
    "counts <- sce$counts\n",
    "cellinfo <- sce$cellinfo\n",
    "geneinfo <- sce$geneinfo"
   ]
  },
  {
   "cell_type": "code",
   "execution_count": 27,
   "metadata": {},
   "outputs": [
    {
     "name": "stderr",
     "output_type": "stream",
     "text": [
      "Trying to set attribute `._uns` of view, copying.\n",
      "/home/junseok/anaconda3/envs/pyg2/lib/python3.9/site-packages/anndata/_core/anndata.py:1228: FutureWarning: The `inplace` parameter in pandas.Categorical.reorder_categories is deprecated and will be removed in a future version. Reordering categories will always return a new Categorical object.\n",
      "  c.reorder_categories(natsorted(c.categories), inplace=True)\n",
      "... storing 'Batch' as categorical\n"
     ]
    }
   ],
   "source": [
    "save_simulated_data(name, truecounts, counts, cellinfo, geneinfo)"
   ]
  },
  {
   "cell_type": "markdown",
   "metadata": {},
   "source": [
    "### 1-2-2) mid = 0.5"
   ]
  },
  {
   "cell_type": "code",
   "execution_count": 28,
   "metadata": {},
   "outputs": [],
   "source": [
    "name='SimT6_2'\n",
    "mid=0.5\n",
    "sigma=0.3\n",
    "ngroup=6"
   ]
  },
  {
   "cell_type": "code",
   "execution_count": 29,
   "metadata": {},
   "outputs": [
    {
     "name": "stderr",
     "output_type": "stream",
     "text": [
      "R[write to console]: Getting parameters...\n",
      "\n",
      "R[write to console]: Creating simulation object...\n",
      "\n",
      "R[write to console]: Simulating library sizes...\n",
      "\n",
      "R[write to console]: Simulating gene means...\n",
      "\n",
      "R[write to console]: Simulating group DE...\n",
      "\n",
      "R[write to console]: Simulating cell means...\n",
      "\n",
      "R[write to console]: Simulating BCV...\n",
      "\n",
      "R[write to console]: Simulating counts...\n",
      "\n",
      "R[write to console]: Simulating dropout (if needed)...\n",
      "\n",
      "R[write to console]: Sparsifying assays...\n",
      "\n",
      "R[write to console]: Automatically converting to sparse matrices, threshold = 0.95\n",
      "\n",
      "R[write to console]: Skipping 'BatchCellMeans': estimated sparse size 1.5 * dense matrix\n",
      "\n",
      "R[write to console]: Skipping 'BaseCellMeans': estimated sparse size 1.5 * dense matrix\n",
      "\n",
      "R[write to console]: Skipping 'BCV': estimated sparse size 1.5 * dense matrix\n",
      "\n",
      "R[write to console]: Skipping 'CellMeans': estimated sparse size 1.49 * dense matrix\n",
      "\n",
      "R[write to console]: Skipping 'TrueCounts': estimated sparse size 2.03 * dense matrix\n",
      "\n",
      "R[write to console]: Skipping 'DropProb': estimated sparse size 1.5 * dense matrix\n",
      "\n",
      "R[write to console]: Skipping 'Dropout': estimated sparse size 0.97 * dense matrix\n",
      "\n",
      "R[write to console]: Skipping 'counts': estimated sparse size 1.43 * dense matrix\n",
      "\n",
      "R[write to console]: Done!\n",
      "\n"
     ]
    }
   ],
   "source": [
    "%%R -i ngroup -i mid -i sigma -o counts -o truecounts -o geneinfo -o cellinfo\n",
    "\n",
    "sce <- Simulation(nGroups=ngroup, nGenes=5000, batchCells=3000, mid=mid, sigma=sigma)\n",
    "truecounts <- sce$truecounts\n",
    "counts <- sce$counts\n",
    "cellinfo <- sce$cellinfo\n",
    "geneinfo <- sce$geneinfo"
   ]
  },
  {
   "cell_type": "code",
   "execution_count": 30,
   "metadata": {},
   "outputs": [
    {
     "name": "stderr",
     "output_type": "stream",
     "text": [
      "Trying to set attribute `._uns` of view, copying.\n",
      "/home/junseok/anaconda3/envs/pyg2/lib/python3.9/site-packages/anndata/_core/anndata.py:1228: FutureWarning: The `inplace` parameter in pandas.Categorical.reorder_categories is deprecated and will be removed in a future version. Reordering categories will always return a new Categorical object.\n",
      "  c.reorder_categories(natsorted(c.categories), inplace=True)\n",
      "... storing 'Batch' as categorical\n"
     ]
    }
   ],
   "source": [
    "save_simulated_data(name, truecounts, counts, cellinfo, geneinfo)"
   ]
  },
  {
   "cell_type": "markdown",
   "metadata": {},
   "source": [
    "### 1-2-3) mid = 1.0"
   ]
  },
  {
   "cell_type": "code",
   "execution_count": 31,
   "metadata": {},
   "outputs": [],
   "source": [
    "name='SimT6_3'\n",
    "mid=1.0\n",
    "sigma=0.3\n",
    "ngroup=6"
   ]
  },
  {
   "cell_type": "code",
   "execution_count": 32,
   "metadata": {},
   "outputs": [
    {
     "name": "stderr",
     "output_type": "stream",
     "text": [
      "R[write to console]: Getting parameters...\n",
      "\n",
      "R[write to console]: Creating simulation object...\n",
      "\n",
      "R[write to console]: Simulating library sizes...\n",
      "\n",
      "R[write to console]: Simulating gene means...\n",
      "\n",
      "R[write to console]: Simulating group DE...\n",
      "\n",
      "R[write to console]: Simulating cell means...\n",
      "\n",
      "R[write to console]: Simulating BCV...\n",
      "\n",
      "R[write to console]: Simulating counts...\n",
      "\n",
      "R[write to console]: Simulating dropout (if needed)...\n",
      "\n",
      "R[write to console]: Sparsifying assays...\n",
      "\n",
      "R[write to console]: Automatically converting to sparse matrices, threshold = 0.95\n",
      "\n",
      "R[write to console]: Skipping 'BatchCellMeans': estimated sparse size 1.5 * dense matrix\n",
      "\n",
      "R[write to console]: Skipping 'BaseCellMeans': estimated sparse size 1.5 * dense matrix\n",
      "\n",
      "R[write to console]: Skipping 'BCV': estimated sparse size 1.5 * dense matrix\n",
      "\n",
      "R[write to console]: Skipping 'CellMeans': estimated sparse size 1.49 * dense matrix\n",
      "\n",
      "R[write to console]: Skipping 'TrueCounts': estimated sparse size 2.03 * dense matrix\n",
      "\n",
      "R[write to console]: Skipping 'DropProb': estimated sparse size 1.5 * dense matrix\n",
      "\n",
      "R[write to console]: Skipping 'Dropout': estimated sparse size 1.11 * dense matrix\n",
      "\n",
      "R[write to console]: Skipping 'counts': estimated sparse size 1.25 * dense matrix\n",
      "\n",
      "R[write to console]: Done!\n",
      "\n"
     ]
    }
   ],
   "source": [
    "%%R -i ngroup -i mid -i sigma -o counts -o truecounts -o geneinfo -o cellinfo\n",
    "\n",
    "sce <- Simulation(nGroups=ngroup, nGenes=5000, batchCells=3000, mid=mid, sigma=sigma)\n",
    "truecounts <- sce$truecounts\n",
    "counts <- sce$counts\n",
    "cellinfo <- sce$cellinfo\n",
    "geneinfo <- sce$geneinfo"
   ]
  },
  {
   "cell_type": "code",
   "execution_count": 33,
   "metadata": {},
   "outputs": [
    {
     "name": "stderr",
     "output_type": "stream",
     "text": [
      "Trying to set attribute `._uns` of view, copying.\n",
      "/home/junseok/anaconda3/envs/pyg2/lib/python3.9/site-packages/anndata/_core/anndata.py:1228: FutureWarning: The `inplace` parameter in pandas.Categorical.reorder_categories is deprecated and will be removed in a future version. Reordering categories will always return a new Categorical object.\n",
      "  c.reorder_categories(natsorted(c.categories), inplace=True)\n",
      "... storing 'Batch' as categorical\n"
     ]
    }
   ],
   "source": [
    "save_simulated_data(name, truecounts, counts, cellinfo, geneinfo)"
   ]
  },
  {
   "cell_type": "markdown",
   "metadata": {},
   "source": [
    "### 1-2-4) mid = 1.5"
   ]
  },
  {
   "cell_type": "code",
   "execution_count": 34,
   "metadata": {},
   "outputs": [],
   "source": [
    "name='SimT6_4'\n",
    "mid=1.5\n",
    "sigma=0.3\n",
    "ngroup=6"
   ]
  },
  {
   "cell_type": "code",
   "execution_count": 35,
   "metadata": {},
   "outputs": [
    {
     "name": "stderr",
     "output_type": "stream",
     "text": [
      "R[write to console]: Getting parameters...\n",
      "\n",
      "R[write to console]: Creating simulation object...\n",
      "\n",
      "R[write to console]: Simulating library sizes...\n",
      "\n",
      "R[write to console]: Simulating gene means...\n",
      "\n",
      "R[write to console]: Simulating group DE...\n",
      "\n",
      "R[write to console]: Simulating cell means...\n",
      "\n",
      "R[write to console]: Simulating BCV...\n",
      "\n",
      "R[write to console]: Simulating counts...\n",
      "\n",
      "R[write to console]: Simulating dropout (if needed)...\n",
      "\n",
      "R[write to console]: Sparsifying assays...\n",
      "\n",
      "R[write to console]: Automatically converting to sparse matrices, threshold = 0.95\n",
      "\n",
      "R[write to console]: Skipping 'BatchCellMeans': estimated sparse size 1.5 * dense matrix\n",
      "\n",
      "R[write to console]: Skipping 'BaseCellMeans': estimated sparse size 1.5 * dense matrix\n",
      "\n",
      "R[write to console]: Skipping 'BCV': estimated sparse size 1.5 * dense matrix\n",
      "\n",
      "R[write to console]: Skipping 'CellMeans': estimated sparse size 1.49 * dense matrix\n",
      "\n",
      "R[write to console]: Skipping 'TrueCounts': estimated sparse size 2.03 * dense matrix\n",
      "\n",
      "R[write to console]: Skipping 'DropProb': estimated sparse size 1.5 * dense matrix\n",
      "\n",
      "R[write to console]: Skipping 'Dropout': estimated sparse size 1.25 * dense matrix\n",
      "\n",
      "R[write to console]: Skipping 'counts': estimated sparse size 1.07 * dense matrix\n",
      "\n",
      "R[write to console]: Done!\n",
      "\n"
     ]
    }
   ],
   "source": [
    "%%R -i ngroup -i mid -i sigma -o counts -o truecounts -o geneinfo -o cellinfo\n",
    "\n",
    "sce <- Simulation(nGroups=ngroup, nGenes=5000, batchCells=3000, mid=mid, sigma=sigma)\n",
    "truecounts <- sce$truecounts\n",
    "counts <- sce$counts\n",
    "cellinfo <- sce$cellinfo\n",
    "geneinfo <- sce$geneinfo"
   ]
  },
  {
   "cell_type": "code",
   "execution_count": 36,
   "metadata": {},
   "outputs": [
    {
     "name": "stderr",
     "output_type": "stream",
     "text": [
      "Trying to set attribute `._uns` of view, copying.\n",
      "/home/junseok/anaconda3/envs/pyg2/lib/python3.9/site-packages/anndata/_core/anndata.py:1228: FutureWarning: The `inplace` parameter in pandas.Categorical.reorder_categories is deprecated and will be removed in a future version. Reordering categories will always return a new Categorical object.\n",
      "  c.reorder_categories(natsorted(c.categories), inplace=True)\n",
      "... storing 'Batch' as categorical\n"
     ]
    }
   ],
   "source": [
    "save_simulated_data(name, truecounts, counts, cellinfo, geneinfo)"
   ]
  },
  {
   "cell_type": "markdown",
   "metadata": {},
   "source": [
    "### 1-2-5) mid = 2.0"
   ]
  },
  {
   "cell_type": "code",
   "execution_count": 37,
   "metadata": {},
   "outputs": [],
   "source": [
    "name='SimT6_5'\n",
    "mid=2.0\n",
    "sigma=0.3\n",
    "ngroup=6"
   ]
  },
  {
   "cell_type": "code",
   "execution_count": 38,
   "metadata": {},
   "outputs": [
    {
     "name": "stderr",
     "output_type": "stream",
     "text": [
      "R[write to console]: Getting parameters...\n",
      "\n",
      "R[write to console]: Creating simulation object...\n",
      "\n",
      "R[write to console]: Simulating library sizes...\n",
      "\n",
      "R[write to console]: Simulating gene means...\n",
      "\n",
      "R[write to console]: Simulating group DE...\n",
      "\n",
      "R[write to console]: Simulating cell means...\n",
      "\n",
      "R[write to console]: Simulating BCV...\n",
      "\n",
      "R[write to console]: Simulating counts...\n",
      "\n",
      "R[write to console]: Simulating dropout (if needed)...\n",
      "\n",
      "R[write to console]: Sparsifying assays...\n",
      "\n",
      "R[write to console]: Automatically converting to sparse matrices, threshold = 0.95\n",
      "\n",
      "R[write to console]: Skipping 'BatchCellMeans': estimated sparse size 1.5 * dense matrix\n",
      "\n",
      "R[write to console]: Skipping 'BaseCellMeans': estimated sparse size 1.5 * dense matrix\n",
      "\n",
      "R[write to console]: Skipping 'BCV': estimated sparse size 1.5 * dense matrix\n",
      "\n",
      "R[write to console]: Skipping 'CellMeans': estimated sparse size 1.49 * dense matrix\n",
      "\n",
      "R[write to console]: Skipping 'TrueCounts': estimated sparse size 2.03 * dense matrix\n",
      "\n",
      "R[write to console]: Skipping 'DropProb': estimated sparse size 1.5 * dense matrix\n",
      "\n",
      "R[write to console]: Skipping 'Dropout': estimated sparse size 1.39 * dense matrix\n",
      "\n",
      "R[write to console]: Converting 'counts' to sparse matrix: estimated sparse size 0.88 * dense matrix\n",
      "\n",
      "R[write to console]: Done!\n",
      "\n"
     ]
    }
   ],
   "source": [
    "%%R -i ngroup -i mid -i sigma -o counts -o truecounts -o geneinfo -o cellinfo\n",
    "\n",
    "sce <- Simulation(nGroups=ngroup, nGenes=5000, batchCells=3000, mid=mid, sigma=sigma)\n",
    "truecounts <- sce$truecounts\n",
    "counts <- sce$counts\n",
    "cellinfo <- sce$cellinfo\n",
    "geneinfo <- sce$geneinfo"
   ]
  },
  {
   "cell_type": "code",
   "execution_count": 39,
   "metadata": {},
   "outputs": [
    {
     "name": "stderr",
     "output_type": "stream",
     "text": [
      "Trying to set attribute `._uns` of view, copying.\n",
      "/home/junseok/anaconda3/envs/pyg2/lib/python3.9/site-packages/anndata/_core/anndata.py:1228: FutureWarning: The `inplace` parameter in pandas.Categorical.reorder_categories is deprecated and will be removed in a future version. Reordering categories will always return a new Categorical object.\n",
      "  c.reorder_categories(natsorted(c.categories), inplace=True)\n",
      "... storing 'Batch' as categorical\n"
     ]
    }
   ],
   "source": [
    "save_simulated_data(name, truecounts, counts, cellinfo, geneinfo)"
   ]
  },
  {
   "cell_type": "markdown",
   "metadata": {},
   "source": [
    "# 2) Low Signal"
   ]
  },
  {
   "cell_type": "markdown",
   "metadata": {},
   "source": [
    "### 2-1) Sigma = 1.0"
   ]
  },
  {
   "cell_type": "code",
   "execution_count": 9,
   "metadata": {},
   "outputs": [],
   "source": [
    "name='Sig1'\n",
    "mid=0.0\n",
    "sigma=0.1\n",
    "ngroup=3"
   ]
  },
  {
   "cell_type": "code",
   "execution_count": 10,
   "metadata": {},
   "outputs": [
    {
     "name": "stderr",
     "output_type": "stream",
     "text": [
      "R[write to console]: Getting parameters...\n",
      "\n",
      "R[write to console]: Creating simulation object...\n",
      "\n",
      "R[write to console]: Simulating library sizes...\n",
      "\n",
      "R[write to console]: Simulating gene means...\n",
      "\n",
      "R[write to console]: Simulating group DE...\n",
      "\n",
      "R[write to console]: Simulating cell means...\n",
      "\n",
      "R[write to console]: Simulating BCV...\n",
      "\n",
      "R[write to console]: Simulating counts...\n",
      "\n",
      "R[write to console]: Simulating dropout (if needed)...\n",
      "\n",
      "R[write to console]: Sparsifying assays...\n",
      "\n",
      "R[write to console]: Automatically converting to sparse matrices, threshold = 0.95\n",
      "\n",
      "R[write to console]: Skipping 'BatchCellMeans': estimated sparse size 1.5 * dense matrix\n",
      "\n",
      "R[write to console]: Skipping 'BaseCellMeans': estimated sparse size 1.5 * dense matrix\n",
      "\n",
      "R[write to console]: Skipping 'BCV': estimated sparse size 1.5 * dense matrix\n",
      "\n",
      "R[write to console]: Skipping 'CellMeans': estimated sparse size 1.49 * dense matrix\n",
      "\n",
      "R[write to console]: Skipping 'TrueCounts': estimated sparse size 2.03 * dense matrix\n",
      "\n",
      "R[write to console]: Skipping 'DropProb': estimated sparse size 1.5 * dense matrix\n",
      "\n",
      "R[write to console]: Converting 'Dropout' to sparse matrix: estimated sparse size 0.83 * dense matrix\n",
      "\n",
      "R[write to console]: Skipping 'counts': estimated sparse size 1.58 * dense matrix\n",
      "\n",
      "R[write to console]: Done!\n",
      "\n"
     ]
    }
   ],
   "source": [
    "%%R -i ngroup -i mid -i sigma -o counts -o truecounts -o geneinfo -o cellinfo\n",
    "\n",
    "sce <- Simulation(nGroups=ngroup, nGenes=5000, batchCells=3000, mid=mid, sigma=sigma)\n",
    "truecounts <- sce$truecounts\n",
    "counts <- sce$counts\n",
    "cellinfo <- sce$cellinfo\n",
    "geneinfo <- sce$geneinfo"
   ]
  },
  {
   "cell_type": "code",
   "execution_count": 11,
   "metadata": {},
   "outputs": [
    {
     "name": "stderr",
     "output_type": "stream",
     "text": [
      "Trying to set attribute `._uns` of view, copying.\n",
      "/home/junseok/anaconda3/envs/pyg2/lib/python3.9/site-packages/anndata/_core/anndata.py:1228: FutureWarning: The `inplace` parameter in pandas.Categorical.reorder_categories is deprecated and will be removed in a future version. Reordering categories will always return a new Categorical object.\n",
      "  c.reorder_categories(natsorted(c.categories), inplace=True)\n",
      "... storing 'Batch' as categorical\n"
     ]
    }
   ],
   "source": [
    "save_simulated_data(name, truecounts, counts, cellinfo, geneinfo)"
   ]
  },
  {
   "cell_type": "markdown",
   "metadata": {},
   "source": [
    "### 2-2) Sigma = 1.5"
   ]
  },
  {
   "cell_type": "code",
   "execution_count": 12,
   "metadata": {},
   "outputs": [],
   "source": [
    "name='Sig2'\n",
    "mid=0.0\n",
    "sigma=1.5\n",
    "ngroup=3"
   ]
  },
  {
   "cell_type": "code",
   "execution_count": 13,
   "metadata": {},
   "outputs": [
    {
     "name": "stderr",
     "output_type": "stream",
     "text": [
      "R[write to console]: Getting parameters...\n",
      "\n",
      "R[write to console]: Creating simulation object...\n",
      "\n",
      "R[write to console]: Simulating library sizes...\n",
      "\n",
      "R[write to console]: Simulating gene means...\n",
      "\n",
      "R[write to console]: Simulating group DE...\n",
      "\n",
      "R[write to console]: Simulating cell means...\n",
      "\n",
      "R[write to console]: Simulating BCV...\n",
      "\n",
      "R[write to console]: Simulating counts...\n",
      "\n",
      "R[write to console]: Simulating dropout (if needed)...\n",
      "\n",
      "R[write to console]: Sparsifying assays...\n",
      "\n",
      "R[write to console]: Automatically converting to sparse matrices, threshold = 0.95\n",
      "\n",
      "R[write to console]: Skipping 'BatchCellMeans': estimated sparse size 1.5 * dense matrix\n",
      "\n",
      "R[write to console]: Skipping 'BaseCellMeans': estimated sparse size 1.5 * dense matrix\n",
      "\n",
      "R[write to console]: Skipping 'BCV': estimated sparse size 1.5 * dense matrix\n",
      "\n",
      "R[write to console]: Skipping 'CellMeans': estimated sparse size 1.49 * dense matrix\n",
      "\n",
      "R[write to console]: Skipping 'TrueCounts': estimated sparse size 1.94 * dense matrix\n",
      "\n",
      "R[write to console]: Skipping 'DropProb': estimated sparse size 1.5 * dense matrix\n",
      "\n",
      "R[write to console]: Converting 'Dropout' to sparse matrix: estimated sparse size 0.89 * dense matrix\n",
      "\n",
      "R[write to console]: Skipping 'counts': estimated sparse size 1.49 * dense matrix\n",
      "\n",
      "R[write to console]: Done!\n",
      "\n"
     ]
    }
   ],
   "source": [
    "%%R -i ngroup -i mid -i sigma -o counts -o truecounts -o geneinfo -o cellinfo\n",
    "\n",
    "sce <- Simulation(nGroups=ngroup, nGenes=5000, batchCells=3000, mid=mid, sigma=sigma)\n",
    "truecounts <- sce$truecounts\n",
    "counts <- sce$counts\n",
    "cellinfo <- sce$cellinfo\n",
    "geneinfo <- sce$geneinfo"
   ]
  },
  {
   "cell_type": "code",
   "execution_count": 14,
   "metadata": {},
   "outputs": [
    {
     "name": "stderr",
     "output_type": "stream",
     "text": [
      "Trying to set attribute `._uns` of view, copying.\n",
      "/home/junseok/anaconda3/envs/pyg2/lib/python3.9/site-packages/anndata/_core/anndata.py:1228: FutureWarning: The `inplace` parameter in pandas.Categorical.reorder_categories is deprecated and will be removed in a future version. Reordering categories will always return a new Categorical object.\n",
      "  c.reorder_categories(natsorted(c.categories), inplace=True)\n",
      "... storing 'Batch' as categorical\n"
     ]
    }
   ],
   "source": [
    "save_simulated_data(name, truecounts, counts, cellinfo, geneinfo)"
   ]
  },
  {
   "cell_type": "markdown",
   "metadata": {},
   "source": [
    "### 2-3) Sigma = 2.0"
   ]
  },
  {
   "cell_type": "code",
   "execution_count": 15,
   "metadata": {},
   "outputs": [],
   "source": [
    "name='Sig3'\n",
    "mid=0.0\n",
    "sigma=2.0\n",
    "ngroup=3"
   ]
  },
  {
   "cell_type": "code",
   "execution_count": 16,
   "metadata": {},
   "outputs": [
    {
     "name": "stderr",
     "output_type": "stream",
     "text": [
      "R[write to console]: Getting parameters...\n",
      "\n",
      "R[write to console]: Creating simulation object...\n",
      "\n",
      "R[write to console]: Simulating library sizes...\n",
      "\n",
      "R[write to console]: Simulating gene means...\n",
      "\n",
      "R[write to console]: Simulating group DE...\n",
      "\n",
      "R[write to console]: Simulating cell means...\n",
      "\n",
      "R[write to console]: Simulating BCV...\n",
      "\n",
      "R[write to console]: Simulating counts...\n",
      "\n",
      "R[write to console]: Simulating dropout (if needed)...\n",
      "\n",
      "R[write to console]: Sparsifying assays...\n",
      "\n",
      "R[write to console]: Automatically converting to sparse matrices, threshold = 0.95\n",
      "\n",
      "R[write to console]: Skipping 'BatchCellMeans': estimated sparse size 1.5 * dense matrix\n",
      "\n",
      "R[write to console]: Skipping 'BaseCellMeans': estimated sparse size 1.5 * dense matrix\n",
      "\n",
      "R[write to console]: Skipping 'BCV': estimated sparse size 1.5 * dense matrix\n",
      "\n",
      "R[write to console]: Skipping 'CellMeans': estimated sparse size 1.49 * dense matrix\n",
      "\n",
      "R[write to console]: Skipping 'TrueCounts': estimated sparse size 1.82 * dense matrix\n",
      "\n",
      "R[write to console]: Skipping 'DropProb': estimated sparse size 1.5 * dense matrix\n",
      "\n",
      "R[write to console]: Skipping 'Dropout': estimated sparse size 0.96 * dense matrix\n",
      "\n",
      "R[write to console]: Skipping 'counts': estimated sparse size 1.37 * dense matrix\n",
      "\n",
      "R[write to console]: Done!\n",
      "\n"
     ]
    }
   ],
   "source": [
    "%%R -i ngroup -i mid -i sigma -o counts -o truecounts -o geneinfo -o cellinfo\n",
    "\n",
    "sce <- Simulation(nGroups=ngroup, nGenes=5000, batchCells=3000, mid=mid, sigma=sigma)\n",
    "truecounts <- sce$truecounts\n",
    "counts <- sce$counts\n",
    "cellinfo <- sce$cellinfo\n",
    "geneinfo <- sce$geneinfo"
   ]
  },
  {
   "cell_type": "code",
   "execution_count": 17,
   "metadata": {},
   "outputs": [
    {
     "name": "stderr",
     "output_type": "stream",
     "text": [
      "Trying to set attribute `._uns` of view, copying.\n",
      "/home/junseok/anaconda3/envs/pyg2/lib/python3.9/site-packages/anndata/_core/anndata.py:1228: FutureWarning: The `inplace` parameter in pandas.Categorical.reorder_categories is deprecated and will be removed in a future version. Reordering categories will always return a new Categorical object.\n",
      "  c.reorder_categories(natsorted(c.categories), inplace=True)\n",
      "... storing 'Batch' as categorical\n"
     ]
    }
   ],
   "source": [
    "save_simulated_data(name, truecounts, counts, cellinfo, geneinfo)"
   ]
  },
  {
   "cell_type": "markdown",
   "metadata": {},
   "source": [
    "### 2-4) Sigma = 2.5"
   ]
  },
  {
   "cell_type": "code",
   "execution_count": 18,
   "metadata": {},
   "outputs": [],
   "source": [
    "name='Sig4'\n",
    "mid=0.0\n",
    "sigma=2.5\n",
    "ngroup=3"
   ]
  },
  {
   "cell_type": "code",
   "execution_count": 19,
   "metadata": {},
   "outputs": [
    {
     "name": "stderr",
     "output_type": "stream",
     "text": [
      "R[write to console]: Getting parameters...\n",
      "\n",
      "R[write to console]: Creating simulation object...\n",
      "\n",
      "R[write to console]: Simulating library sizes...\n",
      "\n",
      "R[write to console]: Simulating gene means...\n",
      "\n",
      "R[write to console]: Simulating group DE...\n",
      "\n",
      "R[write to console]: Simulating cell means...\n",
      "\n",
      "R[write to console]: Simulating BCV...\n",
      "\n",
      "R[write to console]: Simulating counts...\n",
      "\n",
      "R[write to console]: Simulating dropout (if needed)...\n",
      "\n",
      "R[write to console]: Sparsifying assays...\n",
      "\n",
      "R[write to console]: Automatically converting to sparse matrices, threshold = 0.95\n",
      "\n",
      "R[write to console]: Skipping 'BatchCellMeans': estimated sparse size 1.5 * dense matrix\n",
      "\n",
      "R[write to console]: Skipping 'BaseCellMeans': estimated sparse size 1.5 * dense matrix\n",
      "\n",
      "R[write to console]: Skipping 'BCV': estimated sparse size 1.5 * dense matrix\n",
      "\n",
      "R[write to console]: Skipping 'CellMeans': estimated sparse size 1.49 * dense matrix\n",
      "\n",
      "R[write to console]: Skipping 'TrueCounts': estimated sparse size 1.59 * dense matrix\n",
      "\n",
      "R[write to console]: Skipping 'DropProb': estimated sparse size 1.5 * dense matrix\n",
      "\n",
      "R[write to console]: Skipping 'Dropout': estimated sparse size 1.11 * dense matrix\n",
      "\n",
      "R[write to console]: Skipping 'counts': estimated sparse size 1.14 * dense matrix\n",
      "\n",
      "R[write to console]: Done!\n",
      "\n"
     ]
    }
   ],
   "source": [
    "%%R -i ngroup -i mid -i sigma -o counts -o truecounts -o geneinfo -o cellinfo\n",
    "\n",
    "sce <- Simulation(nGroups=ngroup, nGenes=5000, batchCells=3000, mid=mid, sigma=sigma)\n",
    "truecounts <- sce$truecounts\n",
    "counts <- sce$counts\n",
    "cellinfo <- sce$cellinfo\n",
    "geneinfo <- sce$geneinfo"
   ]
  },
  {
   "cell_type": "code",
   "execution_count": 20,
   "metadata": {},
   "outputs": [
    {
     "name": "stderr",
     "output_type": "stream",
     "text": [
      "Trying to set attribute `._uns` of view, copying.\n",
      "/home/junseok/anaconda3/envs/pyg2/lib/python3.9/site-packages/anndata/_core/anndata.py:1228: FutureWarning: The `inplace` parameter in pandas.Categorical.reorder_categories is deprecated and will be removed in a future version. Reordering categories will always return a new Categorical object.\n",
      "  c.reorder_categories(natsorted(c.categories), inplace=True)\n",
      "... storing 'Batch' as categorical\n"
     ]
    }
   ],
   "source": [
    "save_simulated_data(name, truecounts, counts, cellinfo, geneinfo)"
   ]
  },
  {
   "cell_type": "markdown",
   "metadata": {},
   "source": [
    "# 3) Imbalance"
   ]
  },
  {
   "cell_type": "code",
   "execution_count": 22,
   "metadata": {},
   "outputs": [],
   "source": [
    "%%R\n",
    "\n",
    "Imb_Simulation <- function(group_prob, nGroups, nGenes, batchCells, mid, sigma){\n",
    "  method <- 'groups'\n",
    "  \n",
    "  group.prob <- c(group_prob)\n",
    "  \n",
    "  sim <- splatSimulate(group.prob=group.prob, nGenes=nGenes, batchCells=batchCells,\n",
    "                       dropout.type=\"experiment\", method=method, seed=0,\n",
    "                       dropout.shape=-1, dropout.mid=mid, de.facScale=sigma)\n",
    "  \n",
    "  counts     <- as.data.frame(as.matrix(t(counts(sim))))\n",
    "  truecounts <- as.data.frame(t(assays(sim)$TrueCounts))\n",
    "    \n",
    "  cellinfo   <- as.data.frame(colData(sim))\n",
    "  geneinfo   <- as.data.frame(rowData(sim))\n",
    "  \n",
    "  return(list('truecounts'=truecounts, 'counts'=counts, 'cellinfo'=cellinfo, 'geneinfo'=geneinfo))  \n",
    "}"
   ]
  },
  {
   "cell_type": "code",
   "execution_count": 23,
   "metadata": {},
   "outputs": [],
   "source": [
    "def calculate_group_prob(retention, ngroup):\n",
    "    b = (1-retention) / (ngroup -1)\n",
    "    proportion = np.array([retention + i *b for i in range(ngroup)])\n",
    "    group_prob = proportion / np.sum(proportion)\n",
    "\n",
    "    return group_prob"
   ]
  },
  {
   "cell_type": "markdown",
   "metadata": {},
   "source": [
    "### 3-1) retention = 0.1"
   ]
  },
  {
   "cell_type": "code",
   "execution_count": 26,
   "metadata": {},
   "outputs": [
    {
     "name": "stdout",
     "output_type": "stream",
     "text": [
      "[0.03030303 0.08484848 0.13939394 0.19393939 0.24848485 0.3030303 ]\n"
     ]
    }
   ],
   "source": [
    "name='Imb1'\n",
    "mid=0.0\n",
    "sigma=0.4\n",
    "ngroup=6\n",
    "retention=0.1\n",
    "n_cells = 1500\n",
    "group_prob = calculate_group_prob(retention=retention, ngroup=ngroup)\n",
    "print(group_prob)"
   ]
  },
  {
   "cell_type": "code",
   "execution_count": 25,
   "metadata": {},
   "outputs": [
    {
     "name": "stderr",
     "output_type": "stream",
     "text": [
      "R[write to console]: Getting parameters...\n",
      "\n",
      "R[write to console]: Creating simulation object...\n",
      "\n",
      "R[write to console]: Simulating library sizes...\n",
      "\n",
      "R[write to console]: Simulating gene means...\n",
      "\n",
      "R[write to console]: Simulating group DE...\n",
      "\n",
      "R[write to console]: Simulating cell means...\n",
      "\n",
      "R[write to console]: Simulating BCV...\n",
      "\n",
      "R[write to console]: Simulating counts...\n",
      "\n",
      "R[write to console]: Simulating dropout (if needed)...\n",
      "\n",
      "R[write to console]: Sparsifying assays...\n",
      "\n",
      "R[write to console]: Automatically converting to sparse matrices, threshold = 0.95\n",
      "\n",
      "R[write to console]: Skipping 'BatchCellMeans': estimated sparse size 1.5 * dense matrix\n",
      "\n",
      "R[write to console]: Skipping 'BaseCellMeans': estimated sparse size 1.5 * dense matrix\n",
      "\n",
      "R[write to console]: Skipping 'BCV': estimated sparse size 1.5 * dense matrix\n",
      "\n",
      "R[write to console]: Skipping 'CellMeans': estimated sparse size 1.49 * dense matrix\n",
      "\n",
      "R[write to console]: Skipping 'TrueCounts': estimated sparse size 2.01 * dense matrix\n",
      "\n",
      "R[write to console]: Skipping 'DropProb': estimated sparse size 1.5 * dense matrix\n",
      "\n",
      "R[write to console]: Converting 'Dropout' to sparse matrix: estimated sparse size 0.84 * dense matrix\n",
      "\n",
      "R[write to console]: Skipping 'counts': estimated sparse size 1.57 * dense matrix\n",
      "\n",
      "R[write to console]: Done!\n",
      "\n"
     ]
    }
   ],
   "source": [
    "%%R -i group_prob -i n_cells -i ngroup -i mid -i sigma -o counts -o truecounts -o geneinfo -o cellinfo\n",
    "\n",
    "sce <- Imb_Simulation(group_prob=group_prob, nGroups=ngroup, nGenes=5000, batchCells=n_cells, mid=mid, sigma=sigma)\n",
    "\n",
    "truecounts <- sce$truecounts\n",
    "counts <- sce$counts\n",
    "cellinfo <- sce$cellinfo\n",
    "geneinfo <- sce$geneinfo"
   ]
  },
  {
   "cell_type": "code",
   "execution_count": 27,
   "metadata": {},
   "outputs": [
    {
     "name": "stderr",
     "output_type": "stream",
     "text": [
      "Trying to set attribute `._uns` of view, copying.\n",
      "/home/junseok/anaconda3/envs/pyg2/lib/python3.9/site-packages/anndata/_core/anndata.py:1228: FutureWarning: The `inplace` parameter in pandas.Categorical.reorder_categories is deprecated and will be removed in a future version. Reordering categories will always return a new Categorical object.\n",
      "  c.reorder_categories(natsorted(c.categories), inplace=True)\n",
      "... storing 'Batch' as categorical\n"
     ]
    }
   ],
   "source": [
    "save_simulated_data(name, truecounts, counts, cellinfo, geneinfo)"
   ]
  },
  {
   "cell_type": "markdown",
   "metadata": {},
   "source": [
    "### 3-2) retention = 0.3"
   ]
  },
  {
   "cell_type": "code",
   "execution_count": 31,
   "metadata": {},
   "outputs": [
    {
     "name": "stdout",
     "output_type": "stream",
     "text": [
      "[0.07692308 0.11282051 0.14871795 0.18461538 0.22051282 0.25641026]\n"
     ]
    }
   ],
   "source": [
    "name='Imb2'\n",
    "mid=0.0\n",
    "sigma=0.4\n",
    "ngroup=6\n",
    "retention=0.3\n",
    "n_cells = 1500\n",
    "group_prob = calculate_group_prob(retention=retention, ngroup=ngroup)\n",
    "print(group_prob)"
   ]
  },
  {
   "cell_type": "code",
   "execution_count": 32,
   "metadata": {},
   "outputs": [
    {
     "name": "stderr",
     "output_type": "stream",
     "text": [
      "R[write to console]: Getting parameters...\n",
      "\n",
      "R[write to console]: Creating simulation object...\n",
      "\n",
      "R[write to console]: Simulating library sizes...\n",
      "\n",
      "R[write to console]: Simulating gene means...\n",
      "\n",
      "R[write to console]: Simulating group DE...\n",
      "\n",
      "R[write to console]: Simulating cell means...\n",
      "\n",
      "R[write to console]: Simulating BCV...\n",
      "\n",
      "R[write to console]: Simulating counts...\n",
      "\n",
      "R[write to console]: Simulating dropout (if needed)...\n",
      "\n",
      "R[write to console]: Sparsifying assays...\n",
      "\n",
      "R[write to console]: Automatically converting to sparse matrices, threshold = 0.95\n",
      "\n",
      "R[write to console]: Skipping 'BatchCellMeans': estimated sparse size 1.5 * dense matrix\n",
      "\n",
      "R[write to console]: Skipping 'BaseCellMeans': estimated sparse size 1.5 * dense matrix\n",
      "\n",
      "R[write to console]: Skipping 'BCV': estimated sparse size 1.5 * dense matrix\n",
      "\n",
      "R[write to console]: Skipping 'CellMeans': estimated sparse size 1.49 * dense matrix\n",
      "\n",
      "R[write to console]: Skipping 'TrueCounts': estimated sparse size 2.03 * dense matrix\n",
      "\n",
      "R[write to console]: Skipping 'DropProb': estimated sparse size 1.5 * dense matrix\n",
      "\n",
      "R[write to console]: Converting 'Dropout' to sparse matrix: estimated sparse size 0.83 * dense matrix\n",
      "\n",
      "R[write to console]: Skipping 'counts': estimated sparse size 1.59 * dense matrix\n",
      "\n",
      "R[write to console]: Done!\n",
      "\n"
     ]
    }
   ],
   "source": [
    "%%R -i group_prob -i ngroup -i mid -i sigma -o counts -o truecounts -o geneinfo -o cellinfo\n",
    "\n",
    "sce <- Imb_Simulation(group_prob=group_prob, nGroups=ngroup, nGenes=5000, batchCells=1500, mid=mid, sigma=sigma)\n",
    "\n",
    "truecounts <- sce$truecounts\n",
    "counts <- sce$counts\n",
    "cellinfo <- sce$cellinfo\n",
    "geneinfo <- sce$geneinfo"
   ]
  },
  {
   "cell_type": "code",
   "execution_count": 33,
   "metadata": {},
   "outputs": [
    {
     "name": "stderr",
     "output_type": "stream",
     "text": [
      "Trying to set attribute `._uns` of view, copying.\n",
      "/home/junseok/anaconda3/envs/pyg2/lib/python3.9/site-packages/anndata/_core/anndata.py:1228: FutureWarning: The `inplace` parameter in pandas.Categorical.reorder_categories is deprecated and will be removed in a future version. Reordering categories will always return a new Categorical object.\n",
      "  c.reorder_categories(natsorted(c.categories), inplace=True)\n",
      "... storing 'Batch' as categorical\n"
     ]
    }
   ],
   "source": [
    "save_simulated_data(name, truecounts, counts, cellinfo, geneinfo)"
   ]
  },
  {
   "cell_type": "markdown",
   "metadata": {},
   "source": [
    "### 3-3) retention = 0.5"
   ]
  },
  {
   "cell_type": "code",
   "execution_count": 34,
   "metadata": {},
   "outputs": [
    {
     "name": "stdout",
     "output_type": "stream",
     "text": [
      "[0.11111111 0.13333333 0.15555556 0.17777778 0.2        0.22222222]\n"
     ]
    }
   ],
   "source": [
    "name='Imb3'\n",
    "mid=0.0\n",
    "sigma=0.4\n",
    "ngroup=6\n",
    "retention=0.5\n",
    "n_cells = 1500\n",
    "group_prob = calculate_group_prob(retention=retention, ngroup=ngroup)\n",
    "print(group_prob)"
   ]
  },
  {
   "cell_type": "code",
   "execution_count": 35,
   "metadata": {},
   "outputs": [
    {
     "name": "stderr",
     "output_type": "stream",
     "text": [
      "R[write to console]: Getting parameters...\n",
      "\n",
      "R[write to console]: Creating simulation object...\n",
      "\n",
      "R[write to console]: Simulating library sizes...\n",
      "\n",
      "R[write to console]: Simulating gene means...\n",
      "\n",
      "R[write to console]: Simulating group DE...\n",
      "\n",
      "R[write to console]: Simulating cell means...\n",
      "\n",
      "R[write to console]: Simulating BCV...\n",
      "\n",
      "R[write to console]: Simulating counts...\n",
      "\n",
      "R[write to console]: Simulating dropout (if needed)...\n",
      "\n",
      "R[write to console]: Sparsifying assays...\n",
      "\n",
      "R[write to console]: Automatically converting to sparse matrices, threshold = 0.95\n",
      "\n",
      "R[write to console]: Skipping 'BatchCellMeans': estimated sparse size 1.5 * dense matrix\n",
      "\n",
      "R[write to console]: Skipping 'BaseCellMeans': estimated sparse size 1.5 * dense matrix\n",
      "\n",
      "R[write to console]: Skipping 'BCV': estimated sparse size 1.5 * dense matrix\n",
      "\n",
      "R[write to console]: Skipping 'CellMeans': estimated sparse size 1.49 * dense matrix\n",
      "\n",
      "R[write to console]: Skipping 'TrueCounts': estimated sparse size 2.03 * dense matrix\n",
      "\n",
      "R[write to console]: Skipping 'DropProb': estimated sparse size 1.5 * dense matrix\n",
      "\n",
      "R[write to console]: Converting 'Dropout' to sparse matrix: estimated sparse size 0.83 * dense matrix\n",
      "\n",
      "R[write to console]: Skipping 'counts': estimated sparse size 1.58 * dense matrix\n",
      "\n",
      "R[write to console]: Done!\n",
      "\n"
     ]
    }
   ],
   "source": [
    "%%R -i group_prob -i ngroup -i mid -i sigma -o counts -o truecounts -o geneinfo -o cellinfo\n",
    "\n",
    "sce <- Imb_Simulation(group_prob=group_prob, nGroups=ngroup, nGenes=5000, batchCells=1500, mid=mid, sigma=sigma)\n",
    "\n",
    "truecounts <- sce$truecounts\n",
    "counts <- sce$counts\n",
    "cellinfo <- sce$cellinfo\n",
    "geneinfo <- sce$geneinfo"
   ]
  },
  {
   "cell_type": "code",
   "execution_count": 36,
   "metadata": {},
   "outputs": [
    {
     "name": "stderr",
     "output_type": "stream",
     "text": [
      "Trying to set attribute `._uns` of view, copying.\n",
      "/home/junseok/anaconda3/envs/pyg2/lib/python3.9/site-packages/anndata/_core/anndata.py:1228: FutureWarning: The `inplace` parameter in pandas.Categorical.reorder_categories is deprecated and will be removed in a future version. Reordering categories will always return a new Categorical object.\n",
      "  c.reorder_categories(natsorted(c.categories), inplace=True)\n",
      "... storing 'Batch' as categorical\n"
     ]
    }
   ],
   "source": [
    "save_simulated_data(name, truecounts, counts, cellinfo, geneinfo)"
   ]
  },
  {
   "cell_type": "markdown",
   "metadata": {},
   "source": [
    "### 3-4) retention = 0.7"
   ]
  },
  {
   "cell_type": "code",
   "execution_count": 37,
   "metadata": {},
   "outputs": [
    {
     "name": "stdout",
     "output_type": "stream",
     "text": [
      "[0.1372549  0.14901961 0.16078431 0.17254902 0.18431373 0.19607843]\n"
     ]
    }
   ],
   "source": [
    "name='Imb4'\n",
    "mid=0.0\n",
    "sigma=0.4\n",
    "ngroup=6\n",
    "retention=0.7\n",
    "n_cells = 1500\n",
    "group_prob = calculate_group_prob(retention=retention, ngroup=ngroup)\n",
    "print(group_prob)"
   ]
  },
  {
   "cell_type": "code",
   "execution_count": 38,
   "metadata": {},
   "outputs": [
    {
     "name": "stderr",
     "output_type": "stream",
     "text": [
      "R[write to console]: Getting parameters...\n",
      "\n",
      "R[write to console]: Creating simulation object...\n",
      "\n",
      "R[write to console]: Simulating library sizes...\n",
      "\n",
      "R[write to console]: Simulating gene means...\n",
      "\n",
      "R[write to console]: Simulating group DE...\n",
      "\n",
      "R[write to console]: Simulating cell means...\n",
      "\n",
      "R[write to console]: Simulating BCV...\n",
      "\n",
      "R[write to console]: Simulating counts...\n",
      "\n",
      "R[write to console]: Simulating dropout (if needed)...\n",
      "\n",
      "R[write to console]: Sparsifying assays...\n",
      "\n",
      "R[write to console]: Automatically converting to sparse matrices, threshold = 0.95\n",
      "\n",
      "R[write to console]: Skipping 'BatchCellMeans': estimated sparse size 1.5 * dense matrix\n",
      "\n",
      "R[write to console]: Skipping 'BaseCellMeans': estimated sparse size 1.5 * dense matrix\n",
      "\n",
      "R[write to console]: Skipping 'BCV': estimated sparse size 1.5 * dense matrix\n",
      "\n",
      "R[write to console]: Skipping 'CellMeans': estimated sparse size 1.49 * dense matrix\n",
      "\n",
      "R[write to console]: Skipping 'TrueCounts': estimated sparse size 2.03 * dense matrix\n",
      "\n",
      "R[write to console]: Skipping 'DropProb': estimated sparse size 1.5 * dense matrix\n",
      "\n",
      "R[write to console]: Converting 'Dropout' to sparse matrix: estimated sparse size 0.83 * dense matrix\n",
      "\n",
      "R[write to console]: Skipping 'counts': estimated sparse size 1.59 * dense matrix\n",
      "\n",
      "R[write to console]: Done!\n",
      "\n"
     ]
    }
   ],
   "source": [
    "%%R -i group_prob -i ngroup -i mid -i sigma -o counts -o truecounts -o geneinfo -o cellinfo\n",
    "\n",
    "sce <- Imb_Simulation(group_prob=group_prob, nGroups=ngroup, nGenes=5000, batchCells=1500, mid=mid, sigma=sigma)\n",
    "\n",
    "truecounts <- sce$truecounts\n",
    "counts <- sce$counts\n",
    "cellinfo <- sce$cellinfo\n",
    "geneinfo <- sce$geneinfo"
   ]
  },
  {
   "cell_type": "code",
   "execution_count": 39,
   "metadata": {},
   "outputs": [
    {
     "name": "stderr",
     "output_type": "stream",
     "text": [
      "Trying to set attribute `._uns` of view, copying.\n",
      "/home/junseok/anaconda3/envs/pyg2/lib/python3.9/site-packages/anndata/_core/anndata.py:1228: FutureWarning: The `inplace` parameter in pandas.Categorical.reorder_categories is deprecated and will be removed in a future version. Reordering categories will always return a new Categorical object.\n",
      "  c.reorder_categories(natsorted(c.categories), inplace=True)\n",
      "... storing 'Batch' as categorical\n"
     ]
    }
   ],
   "source": [
    "save_simulated_data(name, truecounts, counts, cellinfo, geneinfo)"
   ]
  },
  {
   "cell_type": "markdown",
   "metadata": {},
   "source": [
    "### 3-5) retention = 0.9"
   ]
  },
  {
   "cell_type": "code",
   "execution_count": 40,
   "metadata": {},
   "outputs": [
    {
     "name": "stdout",
     "output_type": "stream",
     "text": [
      "[0.15789474 0.16140351 0.16491228 0.16842105 0.17192982 0.1754386 ]\n"
     ]
    }
   ],
   "source": [
    "name='Imb5'\n",
    "mid=0.0\n",
    "sigma=0.4\n",
    "ngroup=6\n",
    "retention=0.9\n",
    "n_cells = 1500\n",
    "group_prob = calculate_group_prob(retention=retention, ngroup=ngroup)\n",
    "print(group_prob)"
   ]
  },
  {
   "cell_type": "code",
   "execution_count": 41,
   "metadata": {},
   "outputs": [
    {
     "name": "stderr",
     "output_type": "stream",
     "text": [
      "R[write to console]: Getting parameters...\n",
      "\n",
      "R[write to console]: Creating simulation object...\n",
      "\n",
      "R[write to console]: Simulating library sizes...\n",
      "\n",
      "R[write to console]: Simulating gene means...\n",
      "\n",
      "R[write to console]: Simulating group DE...\n",
      "\n",
      "R[write to console]: Simulating cell means...\n",
      "\n",
      "R[write to console]: Simulating BCV...\n",
      "\n",
      "R[write to console]: Simulating counts...\n",
      "\n",
      "R[write to console]: Simulating dropout (if needed)...\n",
      "\n",
      "R[write to console]: Sparsifying assays...\n",
      "\n",
      "R[write to console]: Automatically converting to sparse matrices, threshold = 0.95\n",
      "\n",
      "R[write to console]: Skipping 'BatchCellMeans': estimated sparse size 1.5 * dense matrix\n",
      "\n",
      "R[write to console]: Skipping 'BaseCellMeans': estimated sparse size 1.5 * dense matrix\n",
      "\n",
      "R[write to console]: Skipping 'BCV': estimated sparse size 1.5 * dense matrix\n",
      "\n",
      "R[write to console]: Skipping 'CellMeans': estimated sparse size 1.49 * dense matrix\n",
      "\n",
      "R[write to console]: Skipping 'TrueCounts': estimated sparse size 2.03 * dense matrix\n",
      "\n",
      "R[write to console]: Skipping 'DropProb': estimated sparse size 1.5 * dense matrix\n",
      "\n",
      "R[write to console]: Converting 'Dropout' to sparse matrix: estimated sparse size 0.83 * dense matrix\n",
      "\n",
      "R[write to console]: Skipping 'counts': estimated sparse size 1.59 * dense matrix\n",
      "\n",
      "R[write to console]: Done!\n",
      "\n"
     ]
    }
   ],
   "source": [
    "%%R -i group_prob -i ngroup -i mid -i sigma -o counts -o truecounts -o geneinfo -o cellinfo\n",
    "\n",
    "sce <- Imb_Simulation(group_prob=group_prob, nGroups=ngroup, nGenes=5000, batchCells=1500, mid=mid, sigma=sigma, seed=0)\n",
    "\n",
    "truecounts <- sce$truecounts\n",
    "counts <- sce$counts\n",
    "cellinfo <- sce$cellinfo\n",
    "geneinfo <- sce$geneinfo"
   ]
  },
  {
   "cell_type": "code",
   "execution_count": 42,
   "metadata": {},
   "outputs": [
    {
     "name": "stderr",
     "output_type": "stream",
     "text": [
      "Trying to set attribute `._uns` of view, copying.\n",
      "/home/junseok/anaconda3/envs/pyg2/lib/python3.9/site-packages/anndata/_core/anndata.py:1228: FutureWarning: The `inplace` parameter in pandas.Categorical.reorder_categories is deprecated and will be removed in a future version. Reordering categories will always return a new Categorical object.\n",
      "  c.reorder_categories(natsorted(c.categories), inplace=True)\n",
      "... storing 'Batch' as categorical\n"
     ]
    }
   ],
   "source": [
    "save_simulated_data(name, truecounts, counts, cellinfo, geneinfo)"
   ]
  },
  {
   "cell_type": "code",
   "execution_count": null,
   "metadata": {},
   "outputs": [],
   "source": []
  }
 ],
 "metadata": {
  "kernelspec": {
   "display_name": "Python 3.9.7 ('pyg2')",
   "language": "python",
   "name": "python3"
  },
  "language_info": {
   "codemirror_mode": {
    "name": "ipython",
    "version": 3
   },
   "file_extension": ".py",
   "mimetype": "text/x-python",
   "name": "python",
   "nbconvert_exporter": "python",
   "pygments_lexer": "ipython3",
   "version": "3.9.7"
  },
  "orig_nbformat": 4,
  "vscode": {
   "interpreter": {
    "hash": "264e72115c788ad98d98c990637ec29a4f0c2a779475aba31abd177e563b796d"
   }
  }
 },
 "nbformat": 4,
 "nbformat_minor": 2
}
