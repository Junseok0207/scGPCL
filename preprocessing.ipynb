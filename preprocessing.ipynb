{
 "cells": [
  {
   "cell_type": "code",
   "execution_count": 1,
   "metadata": {},
   "outputs": [],
   "source": [
    "import os\n",
    "import sys\n",
    "import h5py\n",
    "import logging\n",
    "\n",
    "import torch\n",
    "import numpy as np\n",
    "import pandas as pd\n",
    "import scipy\n",
    "import scanpy as sc\n",
    "import warnings\n",
    "from collections import Counter\n",
    "\n",
    "from torch_sparse import SparseTensor\n",
    "from sklearn.preprocessing import LabelEncoder\n",
    "from sklearn.decomposition import PCA\n",
    "\n",
    "import rpy2.rinterface_lib.callbacks\n",
    "from rpy2.robjects import pandas2ri\n",
    "from rpy2.rinterface import RRuntimeWarning\n",
    "\n",
    "warnings.filterwarnings(\"ignore\", category=RRuntimeWarning)\n",
    "rpy2.rinterface_lib.callbacks.logger.setLevel(logging.ERROR)\n",
    "%load_ext rpy2.ipython"
   ]
  },
  {
   "cell_type": "markdown",
   "metadata": {},
   "source": [
    "# Mouse ES Cells"
   ]
  },
  {
   "cell_type": "code",
   "execution_count": 4,
   "metadata": {},
   "outputs": [],
   "source": [
    "dir_path = './raw_data/Mouse_ES'\n",
    "d0_path = os.path.join(dir_path, 'GSM1599494_ES_d0_main.csv.bz2')\n",
    "d2_path = os.path.join(dir_path, 'GSM1599497_ES_d2_LIFminus.csv.bz2')\n",
    "d4_path = os.path.join(dir_path, 'GSM1599498_ES_d4_LIFminus.csv.bz2')\n",
    "d7_path = os.path.join(dir_path, 'GSM1599499_ES_d7_LIFminus.csv.bz2')"
   ]
  },
  {
   "cell_type": "code",
   "execution_count": 5,
   "metadata": {},
   "outputs": [],
   "source": [
    "d0 = pd.read_csv(d0_path, header=None)\n",
    "d0.rename(columns={0:'gene_id'}, inplace=True)\n",
    "d0.set_index('gene_id', inplace=True)\n",
    "num_d0 = d0.shape[1]\n",
    "\n",
    "d2 = pd.read_csv(d2_path, header=None)\n",
    "d2.rename(columns={0:'gene_id'}, inplace=True)\n",
    "d2.set_index('gene_id', inplace=True)\n",
    "num_d2 = d2.shape[1]\n",
    "\n",
    "d4 = pd.read_csv(d4_path, header=None)\n",
    "d4.rename(columns={0:'gene_id'}, inplace=True)\n",
    "d4.set_index('gene_id', inplace=True)\n",
    "num_d4 = d4.shape[1]\n",
    "\n",
    "d7 = pd.read_csv(d7_path, header=None)\n",
    "d7.rename(columns={0:'gene_id'}, inplace=True)\n",
    "d7.set_index('gene_id', inplace=True)\n",
    "num_d7 = d7.shape[1]\n",
    "\n",
    "df = pd.concat([d0, d2, d4, d7], axis=1)\n",
    "df = df.transpose()"
   ]
  },
  {
   "cell_type": "code",
   "execution_count": 8,
   "metadata": {},
   "outputs": [
    {
     "name": "stderr",
     "output_type": "stream",
     "text": [
      "/home/junseok/anaconda3/envs/pyg2/lib/python3.9/site-packages/anndata/_core/anndata.py:120: ImplicitModificationWarning: Transforming to str index.\n",
      "  warnings.warn(\"Transforming to str index.\", ImplicitModificationWarning)\n",
      "Observation names are not unique. To make them unique, call `.obs_names_make_unique`.\n"
     ]
    }
   ],
   "source": [
    "adata = sc.AnnData(df)\n",
    "\n",
    "cell_id = [f'Cell_{i+1}' for i in range(len(df))]\n",
    "\n",
    "d0_label = [1] * num_d0\n",
    "d2_label = [2] * num_d2\n",
    "d4_label = [3] * num_d4\n",
    "d7_label = [4] * num_d7\n",
    "\n",
    "label = np.concatenate((d0_label, d2_label, d4_label, d7_label))\n",
    "\n",
    "cell_info = pd.DataFrame({'cell_id' : cell_id, 'Group' : label})\n",
    "cell_info.set_index('cell_id', inplace=True)\n",
    "\n",
    "adata.obs = cell_info\n",
    "\n",
    "sc.pp.filter_genes(adata, min_counts=1)\n",
    "sc.pp.filter_cells(adata, min_counts=1)"
   ]
  },
  {
   "cell_type": "code",
   "execution_count": null,
   "metadata": {},
   "outputs": [],
   "source": [
    "path = './data/Mouse_ES.h5'\n",
    "adata.write(path)"
   ]
  },
  {
   "cell_type": "markdown",
   "metadata": {},
   "source": [
    "# Mouse bladder cells"
   ]
  },
  {
   "cell_type": "code",
   "execution_count": 2,
   "metadata": {},
   "outputs": [],
   "source": [
    "dir_path = './raw_data/MCA/'\n",
    "data_path = os.path.join(dir_path, 'Bladder_rm.batch_dge.txt')\n",
    "label_path = os.path.join(dir_path, 'MCA_CellAssignments.csv')"
   ]
  },
  {
   "cell_type": "code",
   "execution_count": 3,
   "metadata": {},
   "outputs": [],
   "source": [
    "df = pd.read_csv(data_path, sep=' ')\n",
    "df = df.transpose()\n",
    "df.index.name = 'cell_id'\n",
    "df.columns.name = 'gene_id'\n",
    "adata = sc.AnnData(df)\n",
    "\n",
    "label_df = pd.read_csv(label_path, index_col=0)\n",
    "label_df = label_df[:2746]"
   ]
  },
  {
   "cell_type": "code",
   "execution_count": 4,
   "metadata": {},
   "outputs": [
    {
     "name": "stderr",
     "output_type": "stream",
     "text": [
      "Trying to set attribute `.obs` of view, copying.\n"
     ]
    }
   ],
   "source": [
    "cell_name = np.array(label_df['Cell.name'])\n",
    "adata = adata[cell_name,:]\n",
    "cluster_id = np.array(label_df['ClusterID'])\n",
    "group = list(map(lambda x : x[8:], cluster_id))\n",
    "group = np.array(group).astype(int)\n",
    "adata.obs['Group'] = group\n",
    "\n",
    "sc.pp.filter_genes(adata, min_counts=1)\n",
    "sc.pp.filter_cells(adata, min_counts=1)"
   ]
  },
  {
   "cell_type": "code",
   "execution_count": 5,
   "metadata": {},
   "outputs": [],
   "source": [
    "path = './data/MCA.h5'\n",
    "adata.write(path)"
   ]
  },
  {
   "cell_type": "markdown",
   "metadata": {},
   "source": [
    "# Zeisel"
   ]
  },
  {
   "cell_type": "code",
   "execution_count": 6,
   "metadata": {},
   "outputs": [],
   "source": [
    "name='Zeisel'\n",
    "dir_path = './raw_data/Zeisel'\n",
    "data_path = os.path.join(dir_path, 'GSE60361_C1-3005-Expression.txt.gz')\n",
    "label_path = os.path.join(dir_path, 'expression_mRNA_17-Aug-2014.txt')"
   ]
  },
  {
   "cell_type": "code",
   "execution_count": 7,
   "metadata": {},
   "outputs": [
    {
     "name": "stderr",
     "output_type": "stream",
     "text": [
      "Variable names are not unique. To make them unique, call `.var_names_make_unique`.\n"
     ]
    }
   ],
   "source": [
    "df = pd.read_csv(data_path, sep='\\t')\n",
    "df.rename(columns={'cell_id':'gene_id'}, inplace=True)\n",
    "df.set_index('gene_id', inplace=True)\n",
    "df = df.transpose()\n",
    "\n",
    "adata = sc.AnnData(df)"
   ]
  },
  {
   "cell_type": "code",
   "execution_count": 8,
   "metadata": {},
   "outputs": [],
   "source": [
    "f = open(label_path, 'r')\n",
    "line = f.readline() # tissue\n",
    "group = f.readline() # group\n",
    "\n",
    "group = group[:-1].split(sep='\\t')[2:]\n",
    "group = list(map(int, group))"
   ]
  },
  {
   "cell_type": "code",
   "execution_count": 9,
   "metadata": {},
   "outputs": [],
   "source": [
    "cell_id = df.index\n",
    "adata.obs.index.name = 'cell_id'\n",
    "adata.obs['Group'] = group\n",
    "\n",
    "adata.var_names_make_unique()\n",
    "sc.pp.filter_genes(adata, min_counts=1)\n",
    "sc.pp.filter_cells(adata, min_counts=1)"
   ]
  },
  {
   "cell_type": "code",
   "execution_count": 10,
   "metadata": {},
   "outputs": [],
   "source": [
    "path = './data/Zeisel.h5'\n",
    "adata.write(path)"
   ]
  },
  {
   "cell_type": "markdown",
   "metadata": {},
   "source": [
    "# Worm neuron cells"
   ]
  },
  {
   "cell_type": "code",
   "execution_count": null,
   "metadata": {},
   "outputs": [],
   "source": [
    "%%R -o X -o cell_id -o gene_id -o pData\n",
    "\n",
    "suppressPackageStartupMessages({\n",
    "  library(monocle)\n",
    "  library(dplyr)\n",
    "  library(ggplot2)\n",
    "})\n",
    "\n",
    "path = './raw_data/Worm_neuron_cells/Cao_et_al_2017_vignette.RData'\n",
    "\n",
    "download.file(\n",
    "    \"http://waterston.gs.washington.edu/sci_RNA_seq_gene_count_data/Cao_et_al_2017_vignette.RData\",\n",
    "     destfile=path )\n",
    "\n",
    "load(path)\n",
    "\n",
    "expression <- exprs(cds.neurons)\n",
    "X <- as.matrix(expression)\n",
    "\n",
    "gene_id <- expression@Dimnames[[1]]\n",
    "cell_id <- expression@Dimnames[[2]]\n",
    "\n",
    "pData <- pData(cds.neurons)\n"
   ]
  },
  {
   "cell_type": "code",
   "execution_count": 24,
   "metadata": {},
   "outputs": [],
   "source": [
    "cell_id = np.array(cell_id)\n",
    "gene_id = np.array(gene_id)\n",
    "\n",
    "label_df = pData[pData.loc[:,'cell.type'] != 'Unclassified neurons']\n",
    "label_df = label_df[~label_df.loc[:, 'cell.type'].isnull()]\n",
    "\n",
    "mapping_dict ={'Canal associated neurons' : 1,\n",
    "        'Cholinergic neurons' : 2,\n",
    "        'Ciliated sensory neurons' : 3,\n",
    "        'Dopaminergic neurons' : 4,\n",
    "        'GABAergic neurons' : 5,\n",
    "        'Other interneurons' : 6,\n",
    "        'Oxygen sensory neurons' : 7,\n",
    "        'Pharyngeal neurons' : 8,\n",
    "        'Touch receptor neurons' : 9,        \n",
    "        'flp-1(+) interneurons' : 10,\n",
    "}\n",
    "\n",
    "label_df['cell.type'].replace(mapping_dict, inplace=True)"
   ]
  },
  {
   "cell_type": "code",
   "execution_count": 25,
   "metadata": {},
   "outputs": [
    {
     "name": "stderr",
     "output_type": "stream",
     "text": [
      "Trying to set attribute `.obs` of view, copying.\n"
     ]
    }
   ],
   "source": [
    "adata = sc.AnnData(X.transpose())\n",
    "\n",
    "adata.obs.index = cell_id\n",
    "adata.var.index = gene_id\n",
    "\n",
    "adata.obs.index.name = 'cell_id'\n",
    "adata.var.index.name = 'gene_id'\n",
    "\n",
    "cell = np.array(label_df['cell'])\n",
    "cell_type = np.array(label_df['cell.type'])\n",
    "\n",
    "adata = adata[cell]\n",
    "adata.obs['Group'] = cell_type\n",
    "\n",
    "sc.pp.filter_genes(adata, min_counts=1)\n",
    "sc.pp.filter_cells(adata, min_counts=1)"
   ]
  },
  {
   "cell_type": "code",
   "execution_count": null,
   "metadata": {},
   "outputs": [],
   "source": [
    "path = './data/Worm_neuron_cells'\n",
    "adata.write(path)"
   ]
  },
  {
   "cell_type": "markdown",
   "metadata": {},
   "source": [
    "# 10X PBMC"
   ]
  },
  {
   "cell_type": "code",
   "execution_count": 27,
   "metadata": {},
   "outputs": [],
   "source": [
    "dir_path = './raw_data/10X_PBMC/'\n",
    "data_path = os.path.join(dir_path, 'filtered_gene_bc_matrices', 'GRCh38')\n",
    "label_path = os.path.join(dir_path, 'analysis', 'clustering', 'graphclust', 'clusters.csv')"
   ]
  },
  {
   "cell_type": "code",
   "execution_count": 28,
   "metadata": {},
   "outputs": [],
   "source": [
    "mtx_path = os.path.join(data_path, 'matrix.mtx')\n",
    "barcode_path = os.path.join(data_path, 'barcodes.tsv')\n",
    "genes_path = os.path.join(data_path, 'genes.tsv')"
   ]
  },
  {
   "cell_type": "code",
   "execution_count": 29,
   "metadata": {},
   "outputs": [],
   "source": [
    "adata = sc.read(mtx_path, cache=True)\n",
    "barcodes = pd.read_csv(barcode_path, header=None, sep='\\t')\n",
    "genes = pd.read_csv(genes_path, header=None, sep='\\t')\n",
    "\n",
    "adata = adata.transpose()\n",
    "adata.X = adata.X.toarray()\n",
    "\n",
    "barcodes.rename(columns={0:'barcode'}, inplace=True)\n",
    "barcodes.set_index('barcode', inplace=True)\n",
    "adata.obs = barcodes\n",
    "\n",
    "genes.rename(columns={0:'gene_id', 1:'gene_symbol'}, inplace=True)\n",
    "genes.set_index('gene_symbol', inplace=True)\n",
    "adata.var = genes\n",
    "adata.var_names_make_unique()\n",
    "\n",
    "label = pd.read_csv(label_path)\n",
    "label.set_index('Barcode', inplace=True)\n",
    "group = np.array(label.loc[:,'Cluster'])\n",
    "\n",
    "adata.obs.loc[label.index, 'Group'] = group\n",
    "\n",
    "sc.pp.filter_genes(adata, min_counts=1)\n",
    "sc.pp.filter_cells(adata, min_counts=1)"
   ]
  },
  {
   "cell_type": "code",
   "execution_count": 30,
   "metadata": {},
   "outputs": [
    {
     "data": {
      "text/plain": [
       "AnnData object with n_obs × n_vars = 4340 × 19773\n",
       "    obs: 'Group', 'n_counts'\n",
       "    var: 'gene_id', 'n_counts'"
      ]
     },
     "execution_count": 30,
     "metadata": {},
     "output_type": "execute_result"
    }
   ],
   "source": [
    "path = './data/10X_PBMC.h5'\n",
    "adata.write(path)"
   ]
  },
  {
   "cell_type": "markdown",
   "metadata": {},
   "source": [
    "# Human kidney cells"
   ]
  },
  {
   "cell_type": "code",
   "execution_count": 31,
   "metadata": {},
   "outputs": [],
   "source": [
    "dir_path = './raw_data/Human_kidney_cells'\n",
    "data_path = os.path.join(dir_path, 'data.h5')"
   ]
  },
  {
   "cell_type": "code",
   "execution_count": 32,
   "metadata": {},
   "outputs": [],
   "source": [
    "f = h5py.File(data_path)\n",
    "\n",
    "expression = f['exprs']\n",
    "obs = f['obs']\n",
    "cell_type = np.array(f['obs']['cell_type1'])\n",
    "obs_names = np.array(f['obs_names'])\n",
    "var_names = np.array(f['var_names'])"
   ]
  },
  {
   "cell_type": "code",
   "execution_count": 33,
   "metadata": {},
   "outputs": [],
   "source": [
    "data = np.array(f['exprs']['data'])\n",
    "indices = np.array(f['exprs']['indices'])\n",
    "indptr = np.array(f['exprs']['indptr'])\n",
    "shape = np.array(f['exprs']['shape'])"
   ]
  },
  {
   "cell_type": "code",
   "execution_count": 34,
   "metadata": {},
   "outputs": [],
   "source": [
    "csr_mat = scipy.sparse.csr_matrix((data, indices, indptr), shape=shape)\n",
    "X = csr_mat.toarray()\n",
    "\n",
    "label_encoder = LabelEncoder()\n",
    "group = label_encoder.fit_transform(cell_type)"
   ]
  },
  {
   "cell_type": "code",
   "execution_count": 35,
   "metadata": {},
   "outputs": [],
   "source": [
    "adata = sc.AnnData(X)\n",
    "adata.obs_names = obs_names\n",
    "adata.var_names = var_names\n",
    "adata.obs['Group'] = group\n",
    "\n",
    "sc.pp.filter_genes(adata, min_counts=1)\n",
    "sc.pp.filter_cells(adata, min_counts=1)"
   ]
  },
  {
   "cell_type": "code",
   "execution_count": 38,
   "metadata": {},
   "outputs": [],
   "source": [
    "path = './data/Human_kidney_cells.h5'\n",
    "adata.write(path)"
   ]
  },
  {
   "cell_type": "markdown",
   "metadata": {},
   "source": [
    "# Shekhar mouse retina cells"
   ]
  },
  {
   "cell_type": "code",
   "execution_count": null,
   "metadata": {},
   "outputs": [],
   "source": [
    "%%R -o X -o cell_id -o gene_id -o pData\n",
    "\n",
    "### DATA\n",
    "path <- './raw_data/bipolar_data_Cell2016.Rdata'\n",
    "load(path)\n",
    "# Remove libraries that contain more than 10% mitochondrially derived transcripts\n",
    "mt.genes = grep(\"mt-\", rownames(bipolar_dge), value = TRUE)\n",
    "cells.use = colnames(bipolar_dge)[colSums(bipolar_dge[mt.genes, ])/colSums(bipolar_dge) < 0.1]\n",
    "bipolar_dge = bipolar_dge[, cells.use]\n",
    "\n",
    "# Initialize single cell data as an S4 class object. Only cells where > 500 \n",
    "# genes are detected are considered.\n",
    "# Among the selected cells, only genes that are present in > 30 cells and \n",
    "# those having > 60 transcripts summed\n",
    "# across all the selected cells are considered.\n",
    "bipolar_dge <- bipolar_dge[ , colSums(bipolar_dge > 0) > 500]\n",
    "bipolar_dge <- bipolar_dge[rowSums(bipolar_dge > 0) > 30 & rowSums(bipolar_dge) > 60, ]\n",
    "\n",
    "\n",
    "### ANNOTATIONS\n",
    "# use cluster file from https://portals.broadinstitute.org/single_cell/study/retinal-bipolar-neuron-drop-seq\n",
    "path <- './raw_data/clust_retinal_bipolar.txt' \n",
    "d <- read.table(path, sep = \"\\t\", header = T)\n",
    "cell_ids <- d[,1]\n",
    "d <- data.frame(cell_type2 = d[,2])\n",
    "rownames(d) <- cell_ids\n",
    "# annotation louvain clusters (using Fig.1,F from the paper)\n",
    "d$clust_id <- NA\n",
    "d$clust_id[d$cell_type2 == \"BC1A\"] <- 7\n",
    "d$clust_id[d$cell_type2 == \"BC1B\"] <- 9\n",
    "d$clust_id[d$cell_type2 == \"BC2\"] <- 10\n",
    "d$clust_id[d$cell_type2 == \"BC3A\"] <- 12\n",
    "d$clust_id[d$cell_type2 == \"BC3B\"] <- 8\n",
    "d$clust_id[d$cell_type2 == \"BC4\"] <- 14\n",
    "d$clust_id[d$cell_type2 == \"BC5A (Cone Bipolar cell 5A)\"] <- 3\n",
    "d$clust_id[d$cell_type2 == \"BC5B\"] <- 13\n",
    "d$clust_id[d$cell_type2 == \"BC5C\"] <- 6\n",
    "d$clust_id[d$cell_type2 == \"BC5D\"] <- 11\n",
    "d$clust_id[d$cell_type2 == \"BC6\"] <- 5\n",
    "d$clust_id[d$cell_type2 == \"BC7 (Cone Bipolar cell 7)\"] <- 4\n",
    "d$clust_id[d$cell_type2 == \"BC8/9 (mixture of BC8 and BC9)\"] <- 15\n",
    "d$clust_id[d$cell_type2 == \"RBC (Rod Bipolar cell)\"] <- 1\n",
    "d$clust_id[d$cell_type2 == \"MG (Mueller Glia)\"] <- 2\n",
    "d$clust_id[d$cell_type2 == \"AC (Amacrine cell)\"] <- 16\n",
    "d$clust_id[d$cell_type2 == \"Rod Photoreceptors\"] <- 20\n",
    "d$clust_id[d$cell_type2 == \"Cone Photoreceptors\"] <- 22\n",
    "# our manual annotation\n",
    "d$cell_type1 <- \"unknown\"\n",
    "d$cell_type1[grepl(\"BC\", d$cell_type2)] <- \"bipolar\"\n",
    "d$cell_type1[grepl(\"MG\", d$cell_type2)] <- \"muller\"\n",
    "d$cell_type1[grepl(\"AC\", d$cell_type2)] <- \"amacrine\"\n",
    "d$cell_type1[grepl(\"Rod Photoreceptors\", d$cell_type2)] <- \"rods\"\n",
    "d$cell_type1[grepl(\"Cone Photoreceptors\", d$cell_type2)] <- \"cones\"\n",
    "\n",
    "path <- './raw_data/Shekhar_counts.csv'\n",
    "write.csv(bipolar_dge, path)\n",
    "\n",
    "path <- './raw_data/colData.csv'\n",
    "write.csv(d, path)\n"
   ]
  },
  {
   "cell_type": "code",
   "execution_count": 39,
   "metadata": {},
   "outputs": [],
   "source": [
    "dir_path = './raw_data'\n",
    "mtx_path = os.path.join(dir_path, 'Shekhar_counts.csv')\n",
    "col_path = os.path.join(dir_path, 'colData.csv')"
   ]
  },
  {
   "cell_type": "code",
   "execution_count": 40,
   "metadata": {},
   "outputs": [],
   "source": [
    "count_data = pd.read_csv(mtx_path, index_col=0)\n",
    "count_data = count_data.transpose()\n",
    "\n",
    "col_data = pd.read_csv(col_path, index_col=0)[1:]\n",
    "cell_type = col_data.iloc[:,0]"
   ]
  },
  {
   "cell_type": "code",
   "execution_count": null,
   "metadata": {},
   "outputs": [],
   "source": [
    "adata = sc.AnnData(count_data)\n",
    "\n",
    "adata.obs.index.name = 'cell_id'\n",
    "adata.var.index.name = 'gene_id'\n",
    "\n",
    "label_encoder = LabelEncoder()\n",
    "cell_type = cell_type.values\n",
    "cell_type = label_encoder.fit_transform(cell_type)\n",
    "\n",
    "adata.obs['Group'] = cell_type\n"
   ]
  },
  {
   "cell_type": "code",
   "execution_count": null,
   "metadata": {},
   "outputs": [],
   "source": [
    "dir_path = '../data/Shekhar'\n",
    "path = os.path.join(dir_path, 'Shekhar.h5')\n",
    "adata.write(path)"
   ]
  }
 ],
 "metadata": {
  "kernelspec": {
   "display_name": "Python 3.9.7 ('pyg2')",
   "language": "python",
   "name": "python3"
  },
  "language_info": {
   "codemirror_mode": {
    "name": "ipython",
    "version": 3
   },
   "file_extension": ".py",
   "mimetype": "text/x-python",
   "name": "python",
   "nbconvert_exporter": "python",
   "pygments_lexer": "ipython3",
   "version": "3.9.7"
  },
  "orig_nbformat": 4,
  "vscode": {
   "interpreter": {
    "hash": "ff7fec27faedcf80de72c9baf542c3260b20febdeb3ec356ac2d5b161b8aec3e"
   }
  }
 },
 "nbformat": 4,
 "nbformat_minor": 2
}
